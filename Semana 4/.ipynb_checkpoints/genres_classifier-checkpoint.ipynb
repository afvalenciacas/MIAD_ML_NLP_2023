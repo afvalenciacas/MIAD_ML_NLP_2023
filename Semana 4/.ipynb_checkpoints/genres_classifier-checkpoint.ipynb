{
 "cells": [
  {
   "cell_type": "code",
   "execution_count": 1,
   "metadata": {},
   "outputs": [],
   "source": [
    "import warnings\n",
    "warnings.filterwarnings('ignore')"
   ]
  },
  {
   "cell_type": "code",
   "execution_count": 35,
   "metadata": {},
   "outputs": [],
   "source": [
    "# Importación librerías\n",
    "import pandas as pd\n",
    "import os\n",
    "import numpy as np\n",
    "from sklearn.feature_extraction.text import CountVectorizer\n",
    "from sklearn.feature_extraction.text import TfidfVectorizer\n",
    "from sklearn.svm import SVC\n",
    "from sklearn.preprocessing import MultiLabelBinarizer\n",
    "from sklearn.multiclass import OneVsRestClassifier\n",
    "from sklearn.metrics import classification_report\n",
    "from nltk.corpus import stopwords\n",
    "from nltk.stem import WordNetLemmatizer\n",
    "from sklearn.ensemble import RandomForestRegressor, RandomForestClassifier\n",
    "from sklearn.metrics import r2_score, roc_auc_score\n",
    "from sklearn.model_selection import train_test_split, GridSearchCV, StratifiedKFold\n",
    "import joblib"
   ]
  },
  {
   "cell_type": "code",
   "execution_count": 3,
   "metadata": {},
   "outputs": [],
   "source": [
    "# Carga de datos de archivo .csv\n",
    "dataTraining = pd.read_csv('https://github.com/albahnsen/MIAD_ML_and_NLP/raw/main/datasets/dataTraining.zip', encoding='UTF-8', index_col=0)\n",
    "dataTesting = pd.read_csv('https://github.com/albahnsen/MIAD_ML_and_NLP/raw/main/datasets/dataTesting.zip', encoding='UTF-8', index_col=0)"
   ]
  },
  {
   "cell_type": "code",
   "execution_count": 4,
   "metadata": {},
   "outputs": [
    {
     "data": {
      "text/html": [
       "<div>\n",
       "<style scoped>\n",
       "    .dataframe tbody tr th:only-of-type {\n",
       "        vertical-align: middle;\n",
       "    }\n",
       "\n",
       "    .dataframe tbody tr th {\n",
       "        vertical-align: top;\n",
       "    }\n",
       "\n",
       "    .dataframe thead th {\n",
       "        text-align: right;\n",
       "    }\n",
       "</style>\n",
       "<table border=\"1\" class=\"dataframe\">\n",
       "  <thead>\n",
       "    <tr style=\"text-align: right;\">\n",
       "      <th></th>\n",
       "      <th>year</th>\n",
       "      <th>title</th>\n",
       "      <th>plot</th>\n",
       "      <th>genres</th>\n",
       "      <th>rating</th>\n",
       "    </tr>\n",
       "  </thead>\n",
       "  <tbody>\n",
       "    <tr>\n",
       "      <th>3107</th>\n",
       "      <td>2003</td>\n",
       "      <td>Most</td>\n",
       "      <td>most is the story of a single father who takes...</td>\n",
       "      <td>['Short', 'Drama']</td>\n",
       "      <td>8.0</td>\n",
       "    </tr>\n",
       "    <tr>\n",
       "      <th>900</th>\n",
       "      <td>2008</td>\n",
       "      <td>How to Be a Serial Killer</td>\n",
       "      <td>a serial killer decides to teach the secrets o...</td>\n",
       "      <td>['Comedy', 'Crime', 'Horror']</td>\n",
       "      <td>5.6</td>\n",
       "    </tr>\n",
       "    <tr>\n",
       "      <th>6724</th>\n",
       "      <td>1941</td>\n",
       "      <td>A Woman's Face</td>\n",
       "      <td>in sweden ,  a female blackmailer with a disfi...</td>\n",
       "      <td>['Drama', 'Film-Noir', 'Thriller']</td>\n",
       "      <td>7.2</td>\n",
       "    </tr>\n",
       "    <tr>\n",
       "      <th>4704</th>\n",
       "      <td>1954</td>\n",
       "      <td>Executive Suite</td>\n",
       "      <td>in a friday afternoon in new york ,  the presi...</td>\n",
       "      <td>['Drama']</td>\n",
       "      <td>7.4</td>\n",
       "    </tr>\n",
       "    <tr>\n",
       "      <th>2582</th>\n",
       "      <td>1990</td>\n",
       "      <td>Narrow Margin</td>\n",
       "      <td>in los angeles ,  the editor of a publishing h...</td>\n",
       "      <td>['Action', 'Crime', 'Thriller']</td>\n",
       "      <td>6.6</td>\n",
       "    </tr>\n",
       "  </tbody>\n",
       "</table>\n",
       "</div>"
      ],
      "text/plain": [
       "      year                      title  \\\n",
       "3107  2003                       Most   \n",
       "900   2008  How to Be a Serial Killer   \n",
       "6724  1941             A Woman's Face   \n",
       "4704  1954            Executive Suite   \n",
       "2582  1990              Narrow Margin   \n",
       "\n",
       "                                                   plot  \\\n",
       "3107  most is the story of a single father who takes...   \n",
       "900   a serial killer decides to teach the secrets o...   \n",
       "6724  in sweden ,  a female blackmailer with a disfi...   \n",
       "4704  in a friday afternoon in new york ,  the presi...   \n",
       "2582  in los angeles ,  the editor of a publishing h...   \n",
       "\n",
       "                                  genres  rating  \n",
       "3107                  ['Short', 'Drama']     8.0  \n",
       "900        ['Comedy', 'Crime', 'Horror']     5.6  \n",
       "6724  ['Drama', 'Film-Noir', 'Thriller']     7.2  \n",
       "4704                           ['Drama']     7.4  \n",
       "2582     ['Action', 'Crime', 'Thriller']     6.6  "
      ]
     },
     "execution_count": 4,
     "metadata": {},
     "output_type": "execute_result"
    }
   ],
   "source": [
    "# Visualización datos de entrenamiento\n",
    "dataTraining.head()"
   ]
  },
  {
   "cell_type": "code",
   "execution_count": 5,
   "metadata": {},
   "outputs": [],
   "source": [
    "#Se renombra la base de Training a Df para el desarrollo del proyect\n",
    "df = dataTraining"
   ]
  },
  {
   "cell_type": "code",
   "execution_count": 6,
   "metadata": {},
   "outputs": [
    {
     "name": "stdout",
     "output_type": "stream",
     "text": [
      "<class 'pandas.core.frame.DataFrame'>\n",
      "Int64Index: 7895 entries, 3107 to 215\n",
      "Data columns (total 5 columns):\n",
      " #   Column  Non-Null Count  Dtype  \n",
      "---  ------  --------------  -----  \n",
      " 0   year    7895 non-null   int64  \n",
      " 1   title   7895 non-null   object \n",
      " 2   plot    7895 non-null   object \n",
      " 3   genres  7895 non-null   object \n",
      " 4   rating  7895 non-null   float64\n",
      "dtypes: float64(1), int64(1), object(3)\n",
      "memory usage: 370.1+ KB\n"
     ]
    }
   ],
   "source": [
    "df.info()"
   ]
  },
  {
   "cell_type": "code",
   "execution_count": 7,
   "metadata": {},
   "outputs": [
    {
     "data": {
      "text/plain": [
       "year      False\n",
       "title     False\n",
       "plot      False\n",
       "genres    False\n",
       "rating    False\n",
       "dtype: bool"
      ]
     },
     "execution_count": 7,
     "metadata": {},
     "output_type": "execute_result"
    }
   ],
   "source": [
    "# busqueda valorres perdidos o NA\n",
    "df.isna().any()"
   ]
  },
  {
   "cell_type": "code",
   "execution_count": 8,
   "metadata": {},
   "outputs": [
    {
     "data": {
      "text/plain": [
       "['Drama']                                                            429\n",
       "['Comedy']                                                           368\n",
       "['Comedy', 'Drama', 'Romance']                                       306\n",
       "['Comedy', 'Romance']                                                291\n",
       "['Comedy', 'Drama']                                                  287\n",
       "                                                                    ... \n",
       "['Biography', 'Musical', 'Romance', 'War']                             1\n",
       "['Comedy', 'Fantasy', 'Horror', 'Mystery', 'Romance', 'Thriller']      1\n",
       "['Crime', 'Drama', 'Fantasy', 'Mystery', 'Thriller']                   1\n",
       "['Documentary', 'History', 'News']                                     1\n",
       "['Mystery', 'Horror', 'Sci-Fi']                                        1\n",
       "Name: genres, Length: 1336, dtype: int64"
      ]
     },
     "execution_count": 8,
     "metadata": {},
     "output_type": "execute_result"
    }
   ],
   "source": [
    "df['genres'].value_counts()"
   ]
  },
  {
   "cell_type": "code",
   "execution_count": 9,
   "metadata": {},
   "outputs": [
    {
     "data": {
      "text/plain": [
       "count    7895.000000\n",
       "mean        6.402812\n",
       "std         1.078260\n",
       "min         1.200000\n",
       "25%         5.800000\n",
       "50%         6.500000\n",
       "75%         7.200000\n",
       "max         9.300000\n",
       "Name: rating, dtype: float64"
      ]
     },
     "execution_count": 9,
     "metadata": {},
     "output_type": "execute_result"
    }
   ],
   "source": [
    "df['rating'].describe()"
   ]
  },
  {
   "cell_type": "code",
   "execution_count": 10,
   "metadata": {},
   "outputs": [
    {
     "data": {
      "text/plain": [
       "7895"
      ]
     },
     "execution_count": 10,
     "metadata": {},
     "output_type": "execute_result"
    }
   ],
   "source": [
    "df.shape[0]"
   ]
  },
  {
   "cell_type": "code",
   "execution_count": 11,
   "metadata": {},
   "outputs": [],
   "source": [
    "df = df.drop_duplicates(subset=['plot'])"
   ]
  },
  {
   "cell_type": "code",
   "execution_count": 12,
   "metadata": {},
   "outputs": [
    {
     "data": {
      "text/plain": [
       "7894"
      ]
     },
     "execution_count": 12,
     "metadata": {},
     "output_type": "execute_result"
    }
   ],
   "source": [
    "df.shape[0]"
   ]
  },
  {
   "cell_type": "code",
   "execution_count": 13,
   "metadata": {},
   "outputs": [],
   "source": [
    "df['genres'] = df['genres'].map(lambda x: eval(x))\n",
    "mlb = MultiLabelBinarizer()\n",
    "genres = df['genres']\n",
    "labels = mlb.fit_transform(genres)\n",
    "label_classes = mlb.classes_"
   ]
  },
  {
   "cell_type": "code",
   "execution_count": 14,
   "metadata": {},
   "outputs": [
    {
     "data": {
      "text/plain": [
       "array(['Action', 'Adventure', 'Animation', 'Biography', 'Comedy', 'Crime',\n",
       "       'Documentary', 'Drama', 'Family', 'Fantasy', 'Film-Noir',\n",
       "       'History', 'Horror', 'Music', 'Musical', 'Mystery', 'News',\n",
       "       'Romance', 'Sci-Fi', 'Short', 'Sport', 'Thriller', 'War',\n",
       "       'Western'], dtype=object)"
      ]
     },
     "execution_count": 14,
     "metadata": {},
     "output_type": "execute_result"
    }
   ],
   "source": [
    "label_classes"
   ]
  },
  {
   "cell_type": "code",
   "execution_count": 15,
   "metadata": {},
   "outputs": [
    {
     "name": "stderr",
     "output_type": "stream",
     "text": [
      "[nltk_data] Downloading package stopwords to\n",
      "[nltk_data]     C:\\Users\\afval\\AppData\\Roaming\\nltk_data...\n",
      "[nltk_data]   Package stopwords is already up-to-date!\n",
      "[nltk_data] Downloading package wordnet to\n",
      "[nltk_data]     C:\\Users\\afval\\AppData\\Roaming\\nltk_data...\n",
      "[nltk_data]   Package wordnet is already up-to-date!\n"
     ]
    },
    {
     "data": {
      "text/plain": [
       "True"
      ]
     },
     "execution_count": 15,
     "metadata": {},
     "output_type": "execute_result"
    }
   ],
   "source": [
    "#Preprocesamiento\n",
    "import nltk\n",
    "nltk.download('stopwords')\n",
    "nltk.download('wordnet')"
   ]
  },
  {
   "cell_type": "code",
   "execution_count": 16,
   "metadata": {},
   "outputs": [],
   "source": [
    "import spacy, re\n",
    "nlp = spacy.load('es_core_news_sm')\n",
    "wordnet_lemmatizer = WordNetLemmatizer()\n",
    "\n",
    "def clean_plot(plot):      \n",
    "    letters_only = re.sub(\"[^a-zA-Z]\", \" \", plot) \n",
    "    words = letters_only.lower().split()                             \n",
    "    stops = set(stopwords.words(\"english\"))   \n",
    "    meaningful_words = [wordnet_lemmatizer.lemmatize(w) for w in words if not w in stops]   \n",
    "    return( \" \".join( meaningful_words ))\n",
    "\n",
    "df['plot'] = df['plot'].apply(clean_plot)"
   ]
  },
  {
   "cell_type": "code",
   "execution_count": 17,
   "metadata": {},
   "outputs": [],
   "source": [
    "def lemmatize_text(text):\n",
    "    doc = nlp(text)\n",
    "    lemmas = [token.lemma_ for token in doc]\n",
    "    return ' '.join(lemmas)\n",
    "\n",
    "df['plot'] = df['plot'].apply(lemmatize_text)"
   ]
  },
  {
   "cell_type": "code",
   "execution_count": 18,
   "metadata": {},
   "outputs": [],
   "source": [
    "# Crear la matriz de características TF-IDF\n",
    "vectorizer = TfidfVectorizer(max_features = 3250, stop_words ='english', smooth_idf=True, use_idf= True, sublinear_tf=True, norm='l1', analyzer='word', strip_accents='unicode')\n",
    "X = vectorizer.fit_transform(df['plot'])\n",
    "#vectorizer = TfidfVectorizer(max_features = 3250, stop_words ='english', smooth_idf=True, use_idf= True, sublinear_tf=True, norm='l1', analyzer='word')"
   ]
  },
  {
   "cell_type": "code",
   "execution_count": 19,
   "metadata": {},
   "outputs": [],
   "source": [
    "# Dividir los datos en conjuntos de entrenamiento y prueba\n",
    "X_train, X_test, y_train_genres, y_test_genres = train_test_split(X, labels, test_size=0.33, random_state=42)"
   ]
  },
  {
   "cell_type": "code",
   "execution_count": 20,
   "metadata": {},
   "outputs": [
    {
     "name": "stdout",
     "output_type": "stream",
     "text": [
      "ROC-AUC para el clasificador de regresión logística multilabel: 0.8660323361760129\n"
     ]
    }
   ],
   "source": [
    "from sklearn.linear_model import LogisticRegression\n",
    "\n",
    "# Entrenar y evaluar el clasificador de regresión logística multilabel\n",
    "lr_classifier = OneVsRestClassifier(LogisticRegression())\n",
    "lr_classifier.fit(X_train, y_train_genres)\n",
    "lr_predictions = lr_classifier.predict_proba(X_test)\n",
    "lr_roc_auc = roc_auc_score(y_test_genres, lr_predictions, average='macro')\n",
    "print('ROC-AUC para el clasificador de regresión logística multilabel:', lr_roc_auc)"
   ]
  },
  {
   "cell_type": "code",
   "execution_count": 22,
   "metadata": {},
   "outputs": [
    {
     "name": "stdout",
     "output_type": "stream",
     "text": [
      "ROC-AUC para el clasificador de bosques aleatorios multilabel: 0.7991153388443131\n"
     ]
    }
   ],
   "source": [
    "# Entrenar y evaluar el clasificador de bosques aleatorios multilabel\n",
    "rf_classifier = OneVsRestClassifier(RandomForestClassifier())\n",
    "rf_classifier.fit(X_train, y_train_genres)\n",
    "rf_predictions = rf_classifier.predict_proba(X_test)\n",
    "rf_roc_auc = roc_auc_score(y_test_genres, rf_predictions, average='macro')\n",
    "print('ROC-AUC para el clasificador de bosques aleatorios multilabel:', rf_roc_auc)"
   ]
  },
  {
   "cell_type": "code",
   "execution_count": 24,
   "metadata": {},
   "outputs": [
    {
     "name": "stdout",
     "output_type": "stream",
     "text": [
      "ROC-AUC para el clasificador de vectores de soporte multilabel: 0.8550922480263158\n"
     ]
    }
   ],
   "source": [
    "from sklearn.svm import SVC\n",
    "\n",
    "# Entrenar y evaluar el clasificador de vectores de soporte multilabel\n",
    "svm_classifier = OneVsRestClassifier(SVC(probability=True))\n",
    "svm_classifier.fit(X_train, y_train_genres)\n",
    "svm_predictions = svm_classifier.predict_proba(X_test)\n",
    "svm_roc_auc = roc_auc_score(y_test_genres, svm_predictions, average='macro')\n",
    "print('ROC-AUC para el clasificador de vectores de soporte multilabel:', svm_roc_auc)"
   ]
  },
  {
   "cell_type": "code",
   "execution_count": 46,
   "metadata": {},
   "outputs": [
    {
     "name": "stdout",
     "output_type": "stream",
     "text": [
      "ROC-AUC para el clasificador AdaBoost multilabel: 0.775806704599192\n"
     ]
    }
   ],
   "source": [
    "from sklearn.ensemble import GradientBoostingClassifier\n",
    "\n",
    "# Entrenar y evaluar el clasificador AdaBoost multilabel\n",
    "gradient_classifier = OneVsRestClassifier(GradientBoostingClassifier())\n",
    "gradient_classifier.fit(X_train, y_train_genres)\n",
    "gradient_predictions = gradient_classifier.predict_proba(X_test)\n",
    "gradient_roc_auc = roc_auc_score(y_test_genres, gradient_predictions, average='macro')\n",
    "print('ROC-AUC para el clasificador AdaBoost multilabel:', gradient_roc_auc)"
   ]
  },
  {
   "cell_type": "code",
   "execution_count": 29,
   "metadata": {},
   "outputs": [
    {
     "name": "stdout",
     "output_type": "stream",
     "text": [
      "ROC-AUC para el clasificador XGBoost multilabel: 0.8177264060644891\n"
     ]
    }
   ],
   "source": [
    "from xgboost import XGBClassifier\n",
    "\n",
    "# Entrenar y evaluar el clasificador XGBoost multilabel\n",
    "xgboost_classifier = OneVsRestClassifier(XGBClassifier())\n",
    "xgboost_classifier.fit(X_train, y_train_genres)\n",
    "xgboost_predictions = xgboost_classifier.predict_proba(X_test)\n",
    "xgboost_roc_auc = roc_auc_score(y_test_genres, xgboost_predictions, average='macro')\n",
    "print('ROC-AUC para el clasificador XGBoost multilabel:', xgboost_roc_auc)"
   ]
  },
  {
   "cell_type": "code",
   "execution_count": 20,
   "metadata": {},
   "outputs": [],
   "source": [
    "from sklearn.linear_model import LogisticRegression\n",
    "from sklearn.svm import SVC\n",
    "from xgboost import XGBClassifier\n",
    "from sklearn.ensemble import AdaBoostClassifier\n"
   ]
  },
  {
   "cell_type": "code",
   "execution_count": 25,
   "metadata": {},
   "outputs": [
    {
     "name": "stdout",
     "output_type": "stream",
     "text": [
      "Mejores parámetros para Logistic Regression:\n",
      "{'estimator__C': 10}\n",
      "Mejor ROC-AUC obtenido: 0.8639757336443686\n",
      "ROC-AUC en el conjunto de prueba: 0.8696794512551712\n",
      "\n"
     ]
    }
   ],
   "source": [
    "# Clasificador Logistic Regression\n",
    "logreg_clf = OneVsRestClassifier(LogisticRegression())\n",
    "logreg_params = {\n",
    "    'estimator__C': [0.01, 1, 10],\n",
    "}\n",
    "logreg_grid_search = GridSearchCV(logreg_clf, param_grid=logreg_params, scoring='roc_auc', cv=3)\n",
    "logreg_grid_search.fit(X_train, y_train_genres)\n",
    "logreg_best_params = logreg_grid_search.best_params_\n",
    "logreg_best_score = logreg_grid_search.best_score_\n",
    "logreg_best_classifier = logreg_clf.set_params(**logreg_best_params)\n",
    "logreg_best_classifier.fit(X_train, y_train_genres)\n",
    "logreg_predictions = logreg_best_classifier.predict_proba(X_test)\n",
    "logreg_roc_auc = roc_auc_score(y_test_genres, logreg_predictions, average='macro')\n",
    "print(\"Mejores parámetros para Logistic Regression:\")\n",
    "print(logreg_best_params)\n",
    "print(\"Mejor ROC-AUC obtenido:\", logreg_best_score)\n",
    "print(\"ROC-AUC en el conjunto de prueba:\", logreg_roc_auc)\n",
    "print(\"\")"
   ]
  },
  {
   "cell_type": "code",
   "execution_count": 25,
   "metadata": {},
   "outputs": [
    {
     "name": "stdout",
     "output_type": "stream",
     "text": [
      "Mejores parámetros para Random Forest:\n",
      "{'estimator__max_depth': 5, 'estimator__n_estimators': 200}\n",
      "Mejor ROC-AUC obtenido: 0.8164077219736993\n",
      "ROC-AUC en el conjunto de prueba: 0.8166600173538866\n",
      "\n"
     ]
    }
   ],
   "source": [
    "# Clasificador Random Forest\n",
    "rf_clf = OneVsRestClassifier(RandomForestClassifier())\n",
    "rf_params = {'estimator__n_estimators': [50, 100, 200], 'estimator__max_depth': [None, 5, 10]}\n",
    "rf_grid_search = GridSearchCV(rf_clf, param_grid=rf_params, scoring='roc_auc', cv=3)\n",
    "rf_grid_search.fit(X_train, y_train_genres)\n",
    "rf_best_params = rf_grid_search.best_params_\n",
    "rf_best_score = rf_grid_search.best_score_\n",
    "rf_best_classifier = rf_clf.set_params(**rf_best_params)\n",
    "rf_best_classifier.fit(X_train, y_train_genres)\n",
    "rf_predictions = rf_best_classifier.predict_proba(X_test)\n",
    "rf_roc_auc = roc_auc_score(y_test_genres, rf_predictions)\n",
    "print(\"Mejores parámetros para Random Forest:\")\n",
    "print(rf_best_params)\n",
    "print(\"Mejor ROC-AUC obtenido:\", rf_best_score)\n",
    "print(\"ROC-AUC en el conjunto de prueba:\", rf_roc_auc)\n",
    "print(\"\")"
   ]
  },
  {
   "cell_type": "code",
   "execution_count": 26,
   "metadata": {},
   "outputs": [
    {
     "name": "stdout",
     "output_type": "stream",
     "text": [
      "Mejores parámetros para SVM:\n",
      "{'estimator__C': 1, 'estimator__kernel': 'rbf'}\n",
      "Mejor ROC-AUC obtenido: 0.8561128827702221\n",
      "ROC-AUC en el conjunto de prueba: 0.8550924512257064\n",
      "\n"
     ]
    }
   ],
   "source": [
    "# Clasificador SVM\n",
    "svm_clf = OneVsRestClassifier(SVC(probability=True))\n",
    "svm_params = {'estimator__C': [0.1, 1, 10], 'estimator__kernel': ['linear', 'rbf']}\n",
    "svm_grid_search = GridSearchCV(svm_clf, param_grid=svm_params, scoring='roc_auc', cv=3)\n",
    "svm_grid_search.fit(X_train, y_train_genres)\n",
    "svm_best_params = svm_grid_search.best_params_\n",
    "svm_best_score = svm_grid_search.best_score_\n",
    "svm_best_classifier = svm_clf.set_params(**svm_best_params)\n",
    "svm_best_classifier.fit(X_train, y_train_genres)\n",
    "svm_predictions = svm_best_classifier.predict_proba(X_test)\n",
    "svm_roc_auc = roc_auc_score(y_test_genres, svm_predictions)\n",
    "print(\"Mejores parámetros para SVM:\")\n",
    "print(svm_best_params)\n",
    "print(\"Mejor ROC-AUC obtenido:\", svm_best_score)\n",
    "print(\"ROC-AUC en el conjunto de prueba:\", svm_roc_auc)\n",
    "print(\"\")"
   ]
  },
  {
   "cell_type": "code",
   "execution_count": 27,
   "metadata": {},
   "outputs": [
    {
     "name": "stdout",
     "output_type": "stream",
     "text": [
      "Mejores parámetros para AdaBoost:\n",
      "{'estimator__n_estimators': 100}\n",
      "Mejor ROC-AUC obtenido: 0.754864961491434\n",
      "ROC-AUC en el conjunto de prueba: 0.7706821086925469\n",
      "\n"
     ]
    }
   ],
   "source": [
    "# Clasificador AdaBoost\n",
    "adaboost_clf = OneVsRestClassifier(AdaBoostClassifier())\n",
    "adaboost_params = {'estimator__n_estimators': [50, 100, 200]}\n",
    "adaboost_grid_search = GridSearchCV(adaboost_clf, param_grid=adaboost_params, scoring='roc_auc', cv=3)\n",
    "adaboost_grid_search.fit(X_train, y_train_genres)\n",
    "adaboost_best_params = adaboost_grid_search.best_params_\n",
    "adaboost_best_score = adaboost_grid_search.best_score_\n",
    "adaboost_best_classifier = adaboost_clf.set_params(**adaboost_best_params)\n",
    "adaboost_best_classifier.fit(X_train, y_train_genres)\n",
    "adaboost_predictions = adaboost_best_classifier.predict_proba(X_test)\n",
    "adaboost_roc_auc = roc_auc_score(y_test_genres, adaboost_predictions)\n",
    "print(\"Mejores parámetros para AdaBoost:\")\n",
    "print(adaboost_best_params)\n",
    "print(\"Mejor ROC-AUC obtenido:\", adaboost_best_score)\n",
    "print(\"ROC-AUC en el conjunto de prueba:\", adaboost_roc_auc)\n",
    "print(\"\")"
   ]
  },
  {
   "cell_type": "code",
   "execution_count": 28,
   "metadata": {},
   "outputs": [
    {
     "name": "stdout",
     "output_type": "stream",
     "text": [
      "Mejores parámetros para XGBoost:\n",
      "{'estimator__max_depth': 3, 'estimator__n_estimators': 100}\n",
      "Mejor ROC-AUC obtenido: 0.8076177608993529\n",
      "ROC-AUC en el conjunto de prueba: 0.8224578374704703\n",
      "\n"
     ]
    }
   ],
   "source": [
    "# Clasificador XGBoost\n",
    "xgboost_clf = OneVsRestClassifier(XGBClassifier())\n",
    "xgboost_params = {'estimator__n_estimators': [50, 100, 200], 'estimator__max_depth': [3, 5, 7]}\n",
    "xgboost_grid_search = GridSearchCV(xgboost_clf, param_grid=xgboost_params, scoring='roc_auc', cv=3)\n",
    "xgboost_grid_search.fit(X_train, y_train_genres)\n",
    "xgboost_best_params = xgboost_grid_search.best_params_\n",
    "xgboost_best_score = xgboost_grid_search.best_score_\n",
    "xgboost_best_classifier = xgboost_clf.set_params(**xgboost_best_params)\n",
    "xgboost_best_classifier.fit(X_train, y_train_genres)\n",
    "xgboost_predictions = xgboost_best_classifier.predict_proba(X_test)\n",
    "xgboost_roc_auc = roc_auc_score(y_test_genres, xgboost_predictions)\n",
    "print(\"Mejores parámetros para XGBoost:\")\n",
    "print(xgboost_best_params)\n",
    "print(\"Mejor ROC-AUC obtenido:\", xgboost_best_score)\n",
    "print(\"ROC-AUC en el conjunto de prueba:\", xgboost_roc_auc)\n",
    "print(\"\")"
   ]
  },
  {
   "cell_type": "markdown",
   "metadata": {},
   "source": [
    "### Evaluación de modelos"
   ]
  },
  {
   "cell_type": "markdown",
   "metadata": {},
   "source": [
    "### Logistic Regression"
   ]
  },
  {
   "cell_type": "code",
   "execution_count": 21,
   "metadata": {},
   "outputs": [
    {
     "name": "stdout",
     "output_type": "stream",
     "text": [
      "ROC-AUC para el clasificador de regresión logística multilabel: 0.8696794512551712\n"
     ]
    }
   ],
   "source": [
    "from sklearn.linear_model import LogisticRegression\n",
    "\n",
    "# Entrenar y evaluar el clasificador de regresión logística multilabel\n",
    "lr_classifier = OneVsRestClassifier(LogisticRegression(C=10, random_state=42))\n",
    "lr_classifier.fit(X_train, y_train_genres)\n",
    "lr_predictions = lr_classifier.predict_proba(X_test)\n",
    "lr_roc_auc = roc_auc_score(y_test_genres, lr_predictions, average='macro')\n",
    "print('ROC-AUC para el clasificador de regresión logística multilabel:', lr_roc_auc)"
   ]
  },
  {
   "cell_type": "code",
   "execution_count": 23,
   "metadata": {},
   "outputs": [
    {
     "name": "stdout",
     "output_type": "stream",
     "text": [
      "ROC-AUC train: 0.9612897726848605\n",
      "ROC-AUC test: 0.8696794512551712\n"
     ]
    }
   ],
   "source": [
    "lr_predictions_train = lr_classifier.predict_proba(X_train)\n",
    "lr_predictions_test = lr_classifier.predict_proba(X_test)\n",
    "lr_roc_auc_train = roc_auc_score(y_train_genres, lr_predictions_train, average='macro')\n",
    "lr_roc_auc_test = roc_auc_score(y_test_genres, lr_predictions_test, average='macro')\n",
    "print('ROC-AUC train:', lr_roc_auc_train)\n",
    "print('ROC-AUC test:', lr_roc_auc_test)"
   ]
  },
  {
   "cell_type": "markdown",
   "metadata": {},
   "source": [
    "#### Ramdon Forest"
   ]
  },
  {
   "cell_type": "code",
   "execution_count": 27,
   "metadata": {},
   "outputs": [
    {
     "name": "stdout",
     "output_type": "stream",
     "text": [
      "ROC-AUC para el clasificador de bosques aleatorios multilabel: 0.8165825261410457\n"
     ]
    }
   ],
   "source": [
    "# Clasificador Random Forest\n",
    "# Entrenar y evaluar el clasificador de bosques aleatorios multilabel\n",
    "rf_classifier = OneVsRestClassifier(RandomForestClassifier(max_depth=5, n_estimators=200))\n",
    "rf_classifier.fit(X_train, y_train_genres)\n",
    "rf_predictions = rf_classifier.predict_proba(X_test)\n",
    "rf_roc_auc = roc_auc_score(y_test_genres, rf_predictions, average='macro')\n",
    "print('ROC-AUC para el clasificador de bosques aleatorios multilabel:', rf_roc_auc)"
   ]
  },
  {
   "cell_type": "code",
   "execution_count": 29,
   "metadata": {},
   "outputs": [
    {
     "name": "stdout",
     "output_type": "stream",
     "text": [
      "ROC-AUC train: 0.9517430411286929\n",
      "ROC-AUC test: 0.8165825261410457\n"
     ]
    }
   ],
   "source": [
    "rf_predictions_train = rf_classifier.predict_proba(X_train)\n",
    "rf_predictions_test = rf_classifier.predict_proba(X_test)\n",
    "rf_roc_auc_train = roc_auc_score(y_train_genres, rf_predictions_train, average='macro')\n",
    "rf_roc_auc_test = roc_auc_score(y_test_genres, rf_predictions_test, average='macro')\n",
    "print('ROC-AUC train:', rf_roc_auc_train)\n",
    "print('ROC-AUC test:', rf_roc_auc_test)"
   ]
  },
  {
   "cell_type": "markdown",
   "metadata": {},
   "source": [
    "### SVC"
   ]
  },
  {
   "cell_type": "code",
   "execution_count": 30,
   "metadata": {},
   "outputs": [
    {
     "name": "stdout",
     "output_type": "stream",
     "text": [
      "ROC-AUC para el clasificador de vectores de soporte multilabel: 0.8550848907399508\n"
     ]
    }
   ],
   "source": [
    "from sklearn.svm import SVC\n",
    "\n",
    "# Entrenar y evaluar el clasificador de vectores de soporte multilabel\n",
    "svm_classifier = OneVsRestClassifier(SVC(C=1, kernel= 'rbf',probability=True))\n",
    "svm_classifier.fit(X_train, y_train_genres)\n",
    "svm_predictions = svm_classifier.predict_proba(X_test)\n",
    "svm_roc_auc = roc_auc_score(y_test_genres, svm_predictions, average='macro')\n",
    "print('ROC-AUC para el clasificador de vectores de soporte multilabel:', svm_roc_auc)"
   ]
  },
  {
   "cell_type": "code",
   "execution_count": 31,
   "metadata": {},
   "outputs": [
    {
     "name": "stdout",
     "output_type": "stream",
     "text": [
      "ROC-AUC train: 0.9986992745897076\n",
      "ROC-AUC test: 0.8550848907399508\n"
     ]
    }
   ],
   "source": [
    "svm_predictions_train = svm_classifier.predict_proba(X_train)\n",
    "svm_predictions_test = svm_classifier.predict_proba(X_test)\n",
    "svm_roc_auc_train = roc_auc_score(y_train_genres, svm_predictions_train, average='macro')\n",
    "svm_roc_auc_test = roc_auc_score(y_test_genres, svm_predictions_test, average='macro')\n",
    "print('ROC-AUC train:', svm_roc_auc_train)\n",
    "print('ROC-AUC test:', svm_roc_auc_test)"
   ]
  },
  {
   "cell_type": "markdown",
   "metadata": {},
   "source": [
    "### XGBoost"
   ]
  },
  {
   "cell_type": "code",
   "execution_count": 32,
   "metadata": {},
   "outputs": [
    {
     "name": "stdout",
     "output_type": "stream",
     "text": [
      "ROC-AUC para el clasificador XGBoost multilabel: 0.8224578374704703\n",
      "Wall time: 15.3 s\n"
     ]
    }
   ],
   "source": [
    "%%time\n",
    "from xgboost import XGBClassifier\n",
    "\n",
    "# Entrenar y evaluar el clasificador XGBoost multilabel\n",
    "xgboost_classifier = OneVsRestClassifier(XGBClassifier(max_depth=3, n_estimators=100))\n",
    "xgboost_classifier.fit(X_train, y_train_genres)\n",
    "xgboost_predictions = xgboost_classifier.predict_proba(X_test)\n",
    "xgboost_roc_auc = roc_auc_score(y_test_genres, xgboost_predictions, average='macro')\n",
    "print('ROC-AUC para el clasificador XGBoost multilabel:', xgboost_roc_auc)"
   ]
  },
  {
   "cell_type": "code",
   "execution_count": 33,
   "metadata": {},
   "outputs": [
    {
     "name": "stdout",
     "output_type": "stream",
     "text": [
      "ROC-AUC train: 0.9794366281057633\n",
      "ROC-AUC test: 0.8224578374704703\n"
     ]
    }
   ],
   "source": [
    "xgboost_predictions_train = xgboost_classifier.predict_proba(X_train)\n",
    "xgboost_predictions_test = xgboost_classifier.predict_proba(X_test)\n",
    "xgboost_roc_auc_train = roc_auc_score(y_train_genres, xgboost_predictions_train, average='macro')\n",
    "xgboost_roc_auc_test = roc_auc_score(y_test_genres, xgboost_predictions_test, average='macro')\n",
    "print('ROC-AUC train:', xgboost_roc_auc_train)\n",
    "print('ROC-AUC test:', xgboost_roc_auc_test)"
   ]
  },
  {
   "cell_type": "code",
   "execution_count": 38,
   "metadata": {},
   "outputs": [
    {
     "data": {
      "text/plain": [
       "['C:/Users/afval/Documents/MIAD_ML/MIAD_ML_NLP_2023/Semana 7/genres_movie_xg.pkl']"
      ]
     },
     "execution_count": 38,
     "metadata": {},
     "output_type": "execute_result"
    }
   ],
   "source": [
    "## guardar modelos\n",
    "joblib.dump(lr_classifier, 'C:/Users/afval/Documents/MIAD_ML/MIAD_ML_NLP_2023/Semana 7/genres_movie_lr.pkl', compress=3)\n",
    "joblib.dump(rf_classifier, 'C:/Users/afval/Documents/MIAD_ML/MIAD_ML_NLP_2023/Semana 7/genres_movie_rf.pkl', compress=3)\n",
    "joblib.dump(svm_classifier, 'C:/Users/afval/Documents/MIAD_ML/MIAD_ML_NLP_2023/Semana 7/genres_movie_svm.pkl', compress=3)\n",
    "joblib.dump(xgboost_classifier, 'C:/Users/afval/Documents/MIAD_ML/MIAD_ML_NLP_2023/Semana 7/genres_movie_xg.pkl', compress=3)"
   ]
  },
  {
   "cell_type": "code",
   "execution_count": 30,
   "metadata": {},
   "outputs": [],
   "source": [
    "# transformación variables predictoras X del conjunto de test\n",
    "X_test_dtm = vectorizer.transform(dataTesting['plot'])\n",
    "\n",
    "cols = ['p_Action', 'p_Adventure', 'p_Animation', 'p_Biography', 'p_Comedy', 'p_Crime', 'p_Documentary', 'p_Drama', 'p_Family',\n",
    "        'p_Fantasy', 'p_Film-Noir', 'p_History', 'p_Horror', 'p_Music', 'p_Musical', 'p_Mystery', 'p_News', 'p_Romance',\n",
    "        'p_Sci-Fi', 'p_Short', 'p_Sport', 'p_Thriller', 'p_War', 'p_Western']\n",
    "\n",
    "# Predicción del conjunto de test\n",
    "y_pred_test_genres = logreg_best_classifier.predict_proba(X_test_dtm)"
   ]
  },
  {
   "cell_type": "code",
   "execution_count": 31,
   "metadata": {},
   "outputs": [
    {
     "data": {
      "text/html": [
       "<div>\n",
       "<style scoped>\n",
       "    .dataframe tbody tr th:only-of-type {\n",
       "        vertical-align: middle;\n",
       "    }\n",
       "\n",
       "    .dataframe tbody tr th {\n",
       "        vertical-align: top;\n",
       "    }\n",
       "\n",
       "    .dataframe thead th {\n",
       "        text-align: right;\n",
       "    }\n",
       "</style>\n",
       "<table border=\"1\" class=\"dataframe\">\n",
       "  <thead>\n",
       "    <tr style=\"text-align: right;\">\n",
       "      <th></th>\n",
       "      <th>p_Action</th>\n",
       "      <th>p_Adventure</th>\n",
       "      <th>p_Animation</th>\n",
       "      <th>p_Biography</th>\n",
       "      <th>p_Comedy</th>\n",
       "      <th>p_Crime</th>\n",
       "      <th>p_Documentary</th>\n",
       "      <th>p_Drama</th>\n",
       "      <th>p_Family</th>\n",
       "      <th>p_Fantasy</th>\n",
       "      <th>...</th>\n",
       "      <th>p_Musical</th>\n",
       "      <th>p_Mystery</th>\n",
       "      <th>p_News</th>\n",
       "      <th>p_Romance</th>\n",
       "      <th>p_Sci-Fi</th>\n",
       "      <th>p_Short</th>\n",
       "      <th>p_Sport</th>\n",
       "      <th>p_Thriller</th>\n",
       "      <th>p_War</th>\n",
       "      <th>p_Western</th>\n",
       "    </tr>\n",
       "  </thead>\n",
       "  <tbody>\n",
       "    <tr>\n",
       "      <th>1</th>\n",
       "      <td>0.105521</td>\n",
       "      <td>0.089913</td>\n",
       "      <td>0.021407</td>\n",
       "      <td>0.042772</td>\n",
       "      <td>0.406041</td>\n",
       "      <td>0.120591</td>\n",
       "      <td>0.036523</td>\n",
       "      <td>0.592757</td>\n",
       "      <td>0.042820</td>\n",
       "      <td>0.101477</td>\n",
       "      <td>...</td>\n",
       "      <td>0.033528</td>\n",
       "      <td>0.095175</td>\n",
       "      <td>0.000738</td>\n",
       "      <td>0.526914</td>\n",
       "      <td>0.062622</td>\n",
       "      <td>0.012580</td>\n",
       "      <td>0.024182</td>\n",
       "      <td>0.190526</td>\n",
       "      <td>0.032263</td>\n",
       "      <td>0.030123</td>\n",
       "    </tr>\n",
       "    <tr>\n",
       "      <th>4</th>\n",
       "      <td>0.078858</td>\n",
       "      <td>0.034149</td>\n",
       "      <td>0.025386</td>\n",
       "      <td>0.157484</td>\n",
       "      <td>0.524592</td>\n",
       "      <td>0.215450</td>\n",
       "      <td>0.045036</td>\n",
       "      <td>0.712470</td>\n",
       "      <td>0.035041</td>\n",
       "      <td>0.034528</td>\n",
       "      <td>...</td>\n",
       "      <td>0.034827</td>\n",
       "      <td>0.052075</td>\n",
       "      <td>0.000807</td>\n",
       "      <td>0.150027</td>\n",
       "      <td>0.030283</td>\n",
       "      <td>0.012972</td>\n",
       "      <td>0.032177</td>\n",
       "      <td>0.161782</td>\n",
       "      <td>0.040822</td>\n",
       "      <td>0.028775</td>\n",
       "    </tr>\n",
       "    <tr>\n",
       "      <th>5</th>\n",
       "      <td>0.136352</td>\n",
       "      <td>0.075544</td>\n",
       "      <td>0.023519</td>\n",
       "      <td>0.050704</td>\n",
       "      <td>0.235746</td>\n",
       "      <td>0.366044</td>\n",
       "      <td>0.043195</td>\n",
       "      <td>0.646299</td>\n",
       "      <td>0.048997</td>\n",
       "      <td>0.060168</td>\n",
       "      <td>...</td>\n",
       "      <td>0.026663</td>\n",
       "      <td>0.174633</td>\n",
       "      <td>0.000754</td>\n",
       "      <td>0.179948</td>\n",
       "      <td>0.075507</td>\n",
       "      <td>0.011297</td>\n",
       "      <td>0.029001</td>\n",
       "      <td>0.384604</td>\n",
       "      <td>0.038018</td>\n",
       "      <td>0.026607</td>\n",
       "    </tr>\n",
       "    <tr>\n",
       "      <th>6</th>\n",
       "      <td>0.143232</td>\n",
       "      <td>0.102351</td>\n",
       "      <td>0.025354</td>\n",
       "      <td>0.046708</td>\n",
       "      <td>0.285588</td>\n",
       "      <td>0.120477</td>\n",
       "      <td>0.040571</td>\n",
       "      <td>0.590403</td>\n",
       "      <td>0.063092</td>\n",
       "      <td>0.067713</td>\n",
       "      <td>...</td>\n",
       "      <td>0.029495</td>\n",
       "      <td>0.108617</td>\n",
       "      <td>0.000757</td>\n",
       "      <td>0.229193</td>\n",
       "      <td>0.097250</td>\n",
       "      <td>0.010247</td>\n",
       "      <td>0.035297</td>\n",
       "      <td>0.282391</td>\n",
       "      <td>0.053962</td>\n",
       "      <td>0.026641</td>\n",
       "    </tr>\n",
       "    <tr>\n",
       "      <th>7</th>\n",
       "      <td>0.125484</td>\n",
       "      <td>0.097806</td>\n",
       "      <td>0.026487</td>\n",
       "      <td>0.037207</td>\n",
       "      <td>0.292163</td>\n",
       "      <td>0.151224</td>\n",
       "      <td>0.045495</td>\n",
       "      <td>0.384984</td>\n",
       "      <td>0.058389</td>\n",
       "      <td>0.104774</td>\n",
       "      <td>...</td>\n",
       "      <td>0.027186</td>\n",
       "      <td>0.118966</td>\n",
       "      <td>0.000745</td>\n",
       "      <td>0.172704</td>\n",
       "      <td>0.257945</td>\n",
       "      <td>0.011630</td>\n",
       "      <td>0.022456</td>\n",
       "      <td>0.295695</td>\n",
       "      <td>0.035522</td>\n",
       "      <td>0.024435</td>\n",
       "    </tr>\n",
       "  </tbody>\n",
       "</table>\n",
       "<p>5 rows × 24 columns</p>\n",
       "</div>"
      ],
      "text/plain": [
       "   p_Action  p_Adventure  p_Animation  p_Biography  p_Comedy   p_Crime  \\\n",
       "1  0.105521     0.089913     0.021407     0.042772  0.406041  0.120591   \n",
       "4  0.078858     0.034149     0.025386     0.157484  0.524592  0.215450   \n",
       "5  0.136352     0.075544     0.023519     0.050704  0.235746  0.366044   \n",
       "6  0.143232     0.102351     0.025354     0.046708  0.285588  0.120477   \n",
       "7  0.125484     0.097806     0.026487     0.037207  0.292163  0.151224   \n",
       "\n",
       "   p_Documentary   p_Drama  p_Family  p_Fantasy  ...  p_Musical  p_Mystery  \\\n",
       "1       0.036523  0.592757  0.042820   0.101477  ...   0.033528   0.095175   \n",
       "4       0.045036  0.712470  0.035041   0.034528  ...   0.034827   0.052075   \n",
       "5       0.043195  0.646299  0.048997   0.060168  ...   0.026663   0.174633   \n",
       "6       0.040571  0.590403  0.063092   0.067713  ...   0.029495   0.108617   \n",
       "7       0.045495  0.384984  0.058389   0.104774  ...   0.027186   0.118966   \n",
       "\n",
       "     p_News  p_Romance  p_Sci-Fi   p_Short   p_Sport  p_Thriller     p_War  \\\n",
       "1  0.000738   0.526914  0.062622  0.012580  0.024182    0.190526  0.032263   \n",
       "4  0.000807   0.150027  0.030283  0.012972  0.032177    0.161782  0.040822   \n",
       "5  0.000754   0.179948  0.075507  0.011297  0.029001    0.384604  0.038018   \n",
       "6  0.000757   0.229193  0.097250  0.010247  0.035297    0.282391  0.053962   \n",
       "7  0.000745   0.172704  0.257945  0.011630  0.022456    0.295695  0.035522   \n",
       "\n",
       "   p_Western  \n",
       "1   0.030123  \n",
       "4   0.028775  \n",
       "5   0.026607  \n",
       "6   0.026641  \n",
       "7   0.024435  \n",
       "\n",
       "[5 rows x 24 columns]"
      ]
     },
     "execution_count": 31,
     "metadata": {},
     "output_type": "execute_result"
    }
   ],
   "source": [
    "# Guardar predicciones en formato exigido en la competencia de kaggle\n",
    "res = pd.DataFrame(y_pred_test_genres, index=dataTesting.index, columns=cols)\n",
    "res.to_csv(r'C:\\Users\\afval\\Documents\\MIAD_ML\\MIAD_ML_NLP_2023\\Semana 7\\pred_genres_text_RF_7.csv', index_label='ID')\n",
    "res.head()"
   ]
  },
  {
   "cell_type": "markdown",
   "metadata": {},
   "source": [
    "##### Prueba API"
   ]
  },
  {
   "cell_type": "code",
   "execution_count": 40,
   "metadata": {},
   "outputs": [
    {
     "ename": "ModuleNotFoundError",
     "evalue": "No module named 'model_deployment_genres'",
     "output_type": "error",
     "traceback": [
      "\u001b[1;31m---------------------------------------------------------------------------\u001b[0m",
      "\u001b[1;31mModuleNotFoundError\u001b[0m                       Traceback (most recent call last)",
      "\u001b[1;32m<ipython-input-40-07ddf4eed164>\u001b[0m in \u001b[0;36m<module>\u001b[1;34m\u001b[0m\n\u001b[0;32m      1\u001b[0m \u001b[1;31m# Importar modelo y función de predicción\u001b[0m\u001b[1;33m\u001b[0m\u001b[1;33m\u001b[0m\u001b[1;33m\u001b[0m\u001b[0m\n\u001b[1;32m----> 2\u001b[1;33m \u001b[1;32mfrom\u001b[0m \u001b[0mmodel_deployment_genres\u001b[0m\u001b[1;33m.\u001b[0m\u001b[0mmp2_model_deployment\u001b[0m \u001b[1;32mimport\u001b[0m \u001b[0mpredict_genres\u001b[0m\u001b[1;33m\u001b[0m\u001b[1;33m\u001b[0m\u001b[0m\n\u001b[0m",
      "\u001b[1;31mModuleNotFoundError\u001b[0m: No module named 'model_deployment_genres'"
     ]
    }
   ],
   "source": [
    "# Importar modelo y función de predicción\n",
    "from model_deployment_genres.mp2_model_deployment import predict_genres"
   ]
  },
  {
   "cell_type": "code",
   "execution_count": null,
   "metadata": {},
   "outputs": [],
   "source": [
    "Importación librerías\n",
    "from flask import Flask\n",
    "#from flask_restplus import Api, Resource, fields\n",
    "from flask_restx import Api, Resource, fields"
   ]
  },
  {
   "cell_type": "code",
   "execution_count": null,
   "metadata": {},
   "outputs": [],
   "source": [
    "app = Flask(__name__)\n",
    "\n",
    "api = Api(\n",
    "    app, \n",
    "    version='1.0', \n",
    "    title='Predicción generos de peliculas',\n",
    "    description='Predicción generos de peliculas')\n",
    "\n",
    "ns = api.namespace('predict', \n",
    "     description='Genres Classifier')\n",
    "   \n",
    "parser = api.parser()\n",
    "\n",
    "parser.add_argument(\n",
    "    'year',\n",
    "    type = int,\n",
    "    required = True)\n",
    "\n",
    "parser.add_argument(\n",
    "    'title',\n",
    "    type = str,\n",
    "    required = True)\n",
    "\n",
    "parser.add_argument(\n",
    "    'plot',\n",
    "    type = str,\n",
    "    required = True\n",
    ")\n",
    "\n",
    "parser.add_argument(\n",
    "    'rating',\n",
    "    type = float,\n",
    "    required = True\n",
    ")\n",
    "\n",
    "resource_fields = api.model('Resource', {\n",
    "    'result': fields.String,\n",
    "})"
   ]
  },
  {
   "cell_type": "code",
   "execution_count": null,
   "metadata": {},
   "outputs": [],
   "source": [
    "@ns.route('/')\n",
    "class GenresApi(Resource):\n",
    "\n",
    "    @api.doc(parser=parser)\n",
    "    @api.marshal_with(resource_fields)\n",
    "    def get(self):\n",
    "        args = parser.parse_args()\n",
    "        \n",
    "        return {\n",
    "         \"result\": predict_genre(args['year'], args['title'], args['plot'], args['rating'])\n",
    "        }, 200"
   ]
  },
  {
   "cell_type": "code",
   "execution_count": null,
   "metadata": {},
   "outputs": [],
   "source": [
    "# Ejecución de la aplicación que disponibiliza el modelo de manera local en el puerto 5000\n",
    "app.run(debug=True, use_reloader=False, host='0.0.0.0', port=5000)"
   ]
  }
 ],
 "metadata": {
  "kernelspec": {
   "display_name": "Python 3",
   "language": "python",
   "name": "python3"
  },
  "language_info": {
   "codemirror_mode": {
    "name": "ipython",
    "version": 3
   },
   "file_extension": ".py",
   "mimetype": "text/x-python",
   "name": "python",
   "nbconvert_exporter": "python",
   "pygments_lexer": "ipython3",
   "version": "3.8.5"
  }
 },
 "nbformat": 4,
 "nbformat_minor": 4
}
