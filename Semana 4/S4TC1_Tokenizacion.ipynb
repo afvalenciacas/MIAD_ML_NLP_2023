{
 "cells": [
  {
   "cell_type": "markdown",
   "metadata": {},
   "source": [
    "![image info](https://raw.githubusercontent.com/albahnsen/MIAD_ML_and_NLP/main/images/banner_1.png)"
   ]
  },
  {
   "cell_type": "markdown",
   "metadata": {},
   "source": [
    "# Taller: Tokenización de textos  \n",
    "\n",
    "En este taller podrán poner en práctica sus conocimientos sobre preprocesamiento de texto (tokenización). El taller está constituido por 5 puntos, en los cuales deberan seguir las intrucciones de cada numeral para su desarrollo."
   ]
  },
  {
   "cell_type": "markdown",
   "metadata": {},
   "source": [
    "## Datos detección de toxicidad en comentarios\n",
    "\n",
    "En este taller se usará el conjunto de datos de detección de toxicidad en comentarios de la base de datos de Kaggle. Cada observación es un comentario que tiene como variable objetivo (target) la probabilidad de ser un comentario tóxico. El objetivo es predecir la toxicidad de cada comentario. Para más detalles pueden visitar el siguiente enlace: [datos](https://www.kaggle.com/c/jigsaw-unintended-bias-in-toxicity-classification/data)."
   ]
  },
  {
   "cell_type": "code",
   "execution_count": 2,
   "metadata": {},
   "outputs": [],
   "source": [
    "import warnings\n",
    "warnings.filterwarnings('ignore')"
   ]
  },
  {
   "cell_type": "code",
   "execution_count": 3,
   "metadata": {},
   "outputs": [],
   "source": [
    "# Importación librerías\n",
    "import pandas as pd\n",
    "import numpy as np\n",
    "import scipy as sp\n",
    "from sklearn.model_selection import train_test_split, cross_val_score\n",
    "from sklearn.feature_extraction.text import CountVectorizer, TfidfVectorizer\n",
    "from sklearn import metrics\n",
    "%matplotlib inline"
   ]
  },
  {
   "cell_type": "code",
   "execution_count": 4,
   "metadata": {},
   "outputs": [
    {
     "data": {
      "text/html": [
       "<div>\n",
       "<style scoped>\n",
       "    .dataframe tbody tr th:only-of-type {\n",
       "        vertical-align: middle;\n",
       "    }\n",
       "\n",
       "    .dataframe tbody tr th {\n",
       "        vertical-align: top;\n",
       "    }\n",
       "\n",
       "    .dataframe thead th {\n",
       "        text-align: right;\n",
       "    }\n",
       "</style>\n",
       "<table border=\"1\" class=\"dataframe\">\n",
       "  <thead>\n",
       "    <tr style=\"text-align: right;\">\n",
       "      <th></th>\n",
       "      <th>id</th>\n",
       "      <th>comment_text</th>\n",
       "      <th>target</th>\n",
       "    </tr>\n",
       "  </thead>\n",
       "  <tbody>\n",
       "    <tr>\n",
       "      <th>0</th>\n",
       "      <td>6101457</td>\n",
       "      <td>What are you talking about? What group do Pete...</td>\n",
       "      <td>0.0</td>\n",
       "    </tr>\n",
       "    <tr>\n",
       "      <th>1</th>\n",
       "      <td>5342103</td>\n",
       "      <td>NO!, Let him, we need a Conservative government.</td>\n",
       "      <td>0.0</td>\n",
       "    </tr>\n",
       "    <tr>\n",
       "      <th>2</th>\n",
       "      <td>743361</td>\n",
       "      <td>Perhaps he took the \"power out of the Cardinal...</td>\n",
       "      <td>0.2</td>\n",
       "    </tr>\n",
       "    <tr>\n",
       "      <th>3</th>\n",
       "      <td>551008</td>\n",
       "      <td>As always, yours is dripping with sarcasm, whi...</td>\n",
       "      <td>0.0</td>\n",
       "    </tr>\n",
       "    <tr>\n",
       "      <th>4</th>\n",
       "      <td>865998</td>\n",
       "      <td>The dirty little secret is that the price rang...</td>\n",
       "      <td>0.3</td>\n",
       "    </tr>\n",
       "  </tbody>\n",
       "</table>\n",
       "</div>"
      ],
      "text/plain": [
       "        id                                       comment_text  target\n",
       "0  6101457  What are you talking about? What group do Pete...     0.0\n",
       "1  5342103   NO!, Let him, we need a Conservative government.     0.0\n",
       "2   743361  Perhaps he took the \"power out of the Cardinal...     0.2\n",
       "3   551008  As always, yours is dripping with sarcasm, whi...     0.0\n",
       "4   865998  The dirty little secret is that the price rang...     0.3"
      ]
     },
     "execution_count": 4,
     "metadata": {},
     "output_type": "execute_result"
    }
   ],
   "source": [
    "# Carga de datos de archivos .csv\n",
    "df = pd.read_csv('https://raw.githubusercontent.com/albahnsen/MIAD_ML_and_NLP/main/datasets/Toxicity.zip')\n",
    "df = df[['id','comment_text', 'target']]\n",
    "df.head()"
   ]
  },
  {
   "cell_type": "code",
   "execution_count": 5,
   "metadata": {},
   "outputs": [
    {
     "data": {
      "text/plain": [
       "<AxesSubplot:>"
      ]
     },
     "execution_count": 5,
     "metadata": {},
     "output_type": "execute_result"
    },
    {
     "data": {
      "image/png": "[encoded data removed]",
      "text/plain": [
       "<Figure size 432x288 with 1 Axes>"
      ]
     },
     "metadata": {
      "needs_background": "light"
     },
     "output_type": "display_data"
    }
   ],
   "source": [
    "# Impresión histograma de variable de interés (y)\n",
    "df.target.hist()"
   ]
  },
  {
   "cell_type": "code",
   "execution_count": 6,
   "metadata": {},
   "outputs": [
    {
     "data": {
      "text/plain": [
       "count    541462.000000\n",
       "mean          0.102991\n",
       "std           0.196979\n",
       "min           0.000000\n",
       "25%           0.000000\n",
       "50%           0.000000\n",
       "75%           0.166667\n",
       "max           1.000000\n",
       "Name: target, dtype: float64"
      ]
     },
     "execution_count": 6,
     "metadata": {},
     "output_type": "execute_result"
    }
   ],
   "source": [
    "# Separación de variable de interés (y)\n",
    "y = df.target\n",
    "y.describe()"
   ]
  },
  {
   "cell_type": "code",
   "execution_count": 7,
   "metadata": {},
   "outputs": [],
   "source": [
    "# Separación de variables predictoras (X), solo se considera el texto de la noticia\n",
    "X = df.comment_text"
   ]
  },
  {
   "cell_type": "code",
   "execution_count": 8,
   "metadata": {},
   "outputs": [
    {
     "data": {
      "text/plain": [
       "0         What are you talking about? What group do Pete...\n",
       "1          NO!, Let him, we need a Conservative government.\n",
       "2         Perhaps he took the \"power out of the Cardinal...\n",
       "3         As always, yours is dripping with sarcasm, whi...\n",
       "4         The dirty little secret is that the price rang...\n",
       "                                ...                        \n",
       "541457    You wrote: \"Both parties campaigned explicitly...\n",
       "541458    Nowadays. there sure seem to be a lot of credi...\n",
       "541459    We are lucky wealth filters down to the poor i...\n",
       "541460    You are half right. Both nature and humans can...\n",
       "541461    I don't know how you went from yelling at a fo...\n",
       "Name: comment_text, Length: 541462, dtype: object"
      ]
     },
     "execution_count": 8,
     "metadata": {},
     "output_type": "execute_result"
    }
   ],
   "source": [
    "X"
   ]
  },
  {
   "cell_type": "code",
   "execution_count": 9,
   "metadata": {},
   "outputs": [],
   "source": [
    "# Separación de datos en set de entrenamiento y test\n",
    "X_train, X_test, y_train, y_test = train_test_split(X, y, test_size=0.33, random_state=42)"
   ]
  },
  {
   "cell_type": "markdown",
   "metadata": {},
   "source": [
    "## Punto 1 - Tokenización con CountVectorizer\n",
    "\n",
    "En la celda 1 creen y entrenen el modelo de regresión de su preferencia, para que prediga la probabilidad de que un comentario sea tóxico, usando los set de entrenamiento y test definidos anteriormente. Usen la función **CountVectorizer** para preprocesar los comentarios y presenten el desempeño del modelo con la métrica del MSE.\n",
    "\n",
    "Recuerden que el preprocesamiento que se haga sobre los datos de entrenamiento  (*.fit_transform()*) deben ser aplicado al set de test (*.transform()*)."
   ]
  },
  {
   "cell_type": "code",
   "execution_count": null,
   "metadata": {},
   "outputs": [],
   "source": [
    "from sklearn.svm import SVR\n",
    "from sklearn.metrics import mean_squared_error\n",
    "\n",
    "vectorizer = CountVectorizer(lowercase=True, token_pattern=r'\\b\\w+\\b', stop_words='english')\n",
    "train_vectors = vectorizer.fit_transform(X_train)\n",
    "test_vectors = vectorizer.transform(X_test)\n",
    "\n",
    "svr = SVR(kernel='linear')\n",
    "svr.fit(train_vectors, y_train)\n",
    "predictions = svr.predict(test_vectors)\n",
    "\n",
    "mse = mean_squared_error(y_test, predictions)\n",
    "print(\"MSE:\", mse)"
   ]
  },
  {
   "cell_type": "markdown",
   "metadata": {},
   "source": [
    "## Punto 2 - Tokenización con CountVectorizer y trigramas\n",
    "\n",
    "En la celda 2 creen y entrenen el mismo modelo de regresión del punto anterior (es decir si usaron un RandomForestRegresor usen nuevamente ese regresor), para que prediga la probabilidad de que un comentario sea tóxico, usando los set de entrenamiento y test definidos anteriormente. Usen la función CountVectorizer **considerando trigramas** para preprocesar los comentarios y presenten el desempeño del modelo con la métrica del MSE.\n",
    "\n",
    "Recuerden que el preprocesamiento que se haga sobre los datos de entrenamiento  (*.fit_transform()*) deben ser aplicado al set de test (*.transform()*)."
   ]
  },
  {
   "cell_type": "code",
   "execution_count": null,
   "metadata": {},
   "outputs": [],
   "source": [
    "# Celda 2\n"
   ]
  },
  {
   "cell_type": "markdown",
   "metadata": {},
   "source": [
    "## Punto 3 - TfidfVectorizer\n",
    "\n",
    "Investigen sobre la función TfidfVectorizer. En la celda de texto 3, expliquen en qué consiste esta técnica de tokenización (describanla y expliquen su funcionamiento) y cúales son las ventajas o deventajas de su uso al compararlo con la función CountVectorizer."
   ]
  },
  {
   "cell_type": "markdown",
   "metadata": {},
   "source": [
    "La función TfidfVectorizer genera una matriz de de terminos-pesos, es decir, que de cada termino encontrado por dicha libreria en el texto representa una palabra y un peso. Este peso representa la importancia relativa de esa palabra o termino en la base de datos (textos) en comparación con el texto completo o total de registros de texto. \n",
    "\n",
    "Dicha librería contiene la técnica TF-IDF (Term Frequency - Inverse Data Frequency), la cual se basa en dos medidas: la Frecuencia de Término/palabra (TF) y la Inversa de Frecuencia de Documento (IDF). La Frecuencia de Término/palabra es una medida de la frecuencia con la que un término específico aparece en un texto. A continuación se muestra la formula para realizar el calculo: \n",
    "\n",
    "> $tf_{ij} = \\frac{n_{ij}}{\\sum_{k}n_{ij}}$\n",
    "\n",
    "donde i es el termino y j el texto(entiendase como un registro o texto capturado). Entonces seria como el número de veces que aparece el término \"i\" en el texto \"j\") / (Número total de términos en el texto \"j\").\n",
    "\n",
    "La Inversa de Frecuencia de Documento es una medida de la rareza del término en todo el conjunto. La formula seria la siguiente:\n",
    "\n",
    "> $idf(w) = log(\\frac{N}{df_{t}})$\n",
    "\n",
    "En esta fórmula, el numerador es el número total de textos en la base de datos, mientras que el denominador cuenta el número de textos que contienen el término \"t\" en el total de la abse de datos. Dividiendo el numerador por el denominador, obtenemos la proporción de textos que no contienen el término \"t\" en relación al número total de textos. Luego, tomamos el logaritmo natural de esta proporción para obtener un valor positivo que aumenta a medida que disminuye el número de textos que contienen el término \"t\".\n",
    "\n",
    "Ahora para calcular el TF-IDF basta con multiplicar TF y IDF. La formula seria la siguiente:\n",
    "\n",
    "> $w_{ij} = tf_{ij}  * log(\\frac{N}{df_{i}})$\n",
    "\n",
    "Para entender como funciona se plantea el siguiente ejemplo práctico:\n",
    "\n",
    "Supongamos que tenemos un conjunto de cuatro textos (D1, D2, D3, D4) y queremos calcular el valor de TF-IDF para el término \"datos\" en cada documento. Supongamos que el término \"datos\" aparece de la siguiente manera en cada texto:\n",
    "\n",
    "- D1: \"Los datos son importantes en la toma de decisiones\"\n",
    "- D2: \"La cantidad de información recopilada es abrumadora\"\n",
    "- D3: \"El análisis de datos puede ser complejo\"\n",
    "- D4: \"El aprendizaje automático se basa en los datos\"\n",
    "\n",
    "Para calcular la Frecuencia de Término de \"datos\" en cada texto, contamos el número de veces que aparece \"datos\" en cada texto y lo dividimos por el número total de términos en el texto:\n",
    "\n",
    "- TF(\"datos\", D1) = 1/7 = 0.1429\n",
    "- TF(\"datos\", D2) = 0\n",
    "- TF(\"datos\", D3) = 1/5 = 0.2\n",
    "- TF(\"datos\", D4) = 1/6 = 0.1667\n",
    "\n",
    "Observa que en el texto D2 el término \"datos\" no aparece en absoluto, por lo que su frecuencia de término es cero.\n",
    "\n",
    "Para calcular la Inversa de Frecuencia de Documento de \"datos\" en todo el conjunto de textos, contamos el número de textos que contienen \"datos\" y lo dividimos por el número total de textos. Luego, tomamos el logaritmo natural de este cociente:\n",
    "\n",
    "- IDF(\"datos\", {D1, D2, D3, D4}) = log(4/3) = **0.2877**\n",
    "\n",
    "En este caso, el valor de IDF es distinto de cero porque el término \"datos\" no aparece en uno de los textos. El valor de IDF es mayor que cero pero no demasiado alto, lo que sugiere que el término \"datos\" es relativamente común en el conjunto de textos.\n",
    "\n",
    "Finalmente, para calcular el valor de TF-IDF de \"datos\" en cada documento, multiplicamos el valor de TF por el valor de IDF:\n",
    "\n",
    "- TF-IDF(\"datos\", D1) = 0.1429 * 0.2877 = 0.0411\n",
    "- TF-IDF(\"datos\", D2) = 0 * 0.2877 = 0\n",
    "- TF-IDF(\"datos\", D3) = 0.2 * 0.2877 = 0.0575\n",
    "- TF-IDF(\"datos\", D4) = 0.1667 * 0.2877 = 0.048\n",
    "\n",
    "Se observa que el valor de TF-IDF para \"datos\" en cada texto es distinto de cero, excepto en D2, donde no aparece el término \"datos\". Además, el valor de TF-IDF es más alto en los textos donde el término \"datos\" es más relevante para la comprensión del texto (por ejemplo, D3, donde se habla del \"análisis de datos\"), y más bajo en los textos donde el término \"datos\" es menos relevante (por ejemplo, D1, donde se habla de que \"los datos son importantes en la toma de decisiones\", pero no se profundiza demasiado en el tema)."
   ]
  },
  {
   "cell_type": "markdown",
   "metadata": {},
   "source": [
    "#### Ventajas y desventajas"
   ]
  },
  {
   "cell_type": "markdown",
   "metadata": {},
   "source": [
    "La ventaja de TfidfVectorizer sobre CountVectorizer es que TfidfVectorizer considera tanto la frecuencia de un término en un documento como la frecuencia de aparición del término en todo el conjunto de textos, mientras que CountVectorizer solo considera la frecuencia de aparición del término en el texto. Por lo tanto, TfidfVectorizer puede dar una mayor importancia a los términos que son raros en todo el conjunto pero frecuentes en un texto en particular, lo que puede ser útil para identificar palabras clave en un conjunto de textos.\n",
    "\n",
    "Además, TfidfVectorizer también puede aplicar técnicas de preprocesamiento adicionales, como la eliminación de palabras comunes (stop words), la reducción de palabras a su forma básica (stemming) y la corrección de errores tipográficos.\n",
    "\n",
    "Sin embargo, una desventaja de TfidfVectorizer es que puede ser más lento que CountVectorizer para conjuntos de datos grandes debido a que requiere un cálculo adicional, IDF. También puede ser menos útil en situaciones en las que la frecuencia de un término es más importante que su importancia relativa en todo el conjunto de textos, como en la identificación de nombres de personas o lugares en un texto."
   ]
  },
  {
   "cell_type": "markdown",
   "metadata": {},
   "source": [
    "|                       | TfidfVectorizer             | CountVectorizer             |\n",
    "|-----------------------|------------------------------|------------------------------|\n",
    "| Ventajas              | - Da más peso a términos raros | - Útil para análisis simples |\n",
    "|                       |   que pueden ser más         |   de frecuencia de términos  |\n",
    "|                       |   relevantes                  |                              |\n",
    "|                       | - Menos sensible a palabras   | - Sensible a palabras comunes |\n",
    "|                       |   comunes que no aportan      |   que pueden ser ruido       |\n",
    "|                       |   mucha información           | - Es más rápido y simple     |\n",
    "|                       | - Útil para tareas de         | - Es adecuado para tareas de  |\n",
    "|                       |   clasificación y recuperación|   clasificación y recuperación|\n",
    "| Desventajas           | - No es bueno para tareas de  | - Da igual importancia a     |\n",
    "|                       |   análisis simples de         |   palabras comunes y         |\n",
    "|                       |   frecuencia de términos      |   palabras raras             |\n",
    "|                       | - Puede no ser efectivo si    | - No da más peso a palabras  |\n",
    "|                       |   los términos más comunes    |   más raras o relevantes     |\n",
    "|                       |   son importantes             |                              |\n",
    "|                       | - Es más lento y computacional| - No toma en cuenta la       |\n",
    "|                       |   intensivo que CountVectorizer|   relevancia de los términos |"
   ]
  },
  {
   "cell_type": "markdown",
   "metadata": {},
   "source": [
    "## Punto 4 - Tokenización con TfidfVectorizer\n",
    "\n",
    "En la celda 4 creen y entrenen el mismo modelo de regresión del primer punto, para que prediga la probabilidad de que un comentario sea tóxico, usando los set de entrenamiento y test definidos anteriormente. Procesen los comentarios con la función **TfidfVectorizer** y presenten el desempeño del modelo con la métrica del MSE.\n",
    "\n",
    "Recuerden que el preprocesamiento que se haga sobre los datos de entrenamiento  (*.fit_transform()*) deben ser aplicado al set de test (*.transform()*)."
   ]
  },
  {
   "cell_type": "code",
   "execution_count": null,
   "metadata": {},
   "outputs": [],
   "source": [
    "# Celda 4\n"
   ]
  },
  {
   "cell_type": "markdown",
   "metadata": {},
   "source": [
    "## Punto 5 - Comparación y análisis de resultados\n",
    "\n",
    "En la celda 5 comparen los resultados obtenidos de los diferentes modelos y comenten cómo el preprocesamiento de texto afecta el desempeño."
   ]
  },
  {
   "cell_type": "code",
   "execution_count": null,
   "metadata": {},
   "outputs": [],
   "source": [
    "# Celda 5"
   ]
  }
 ],
 "metadata": {
  "kernelspec": {
   "display_name": "Python 3",
   "language": "python",
   "name": "python3"
  },
  "language_info": {
   "codemirror_mode": {
    "name": "ipython",
    "version": 3
   },
   "file_extension": ".py",
   "mimetype": "text/x-python",
   "name": "python",
   "nbconvert_exporter": "python",
   "pygments_lexer": "ipython3",
   "version": "3.8.5"
  },
  "name": "_merged"
 },
 "nbformat": 4,
 "nbformat_minor": 4
}
