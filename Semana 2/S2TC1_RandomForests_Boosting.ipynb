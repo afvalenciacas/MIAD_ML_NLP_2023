{
 "cells": [
  {
   "cell_type": "markdown",
   "metadata": {},
   "source": [
    "![image info](https://raw.githubusercontent.com/albahnsen/MIAD_ML_and_NLP/main/images/banner_1.png)"
   ]
  },
  {
   "cell_type": "markdown",
   "metadata": {},
   "source": [
    "# Taller: Construcción e implementación de modelos Bagging, Random Forest y XGBoost\n",
    "\n",
    "En este taller podrán poner en práctica sus conocimientos sobre la construcción e implementación de modelos de Bagging, Random Forest y XGBoost. El taller está constituido por 8 puntos, en los cuales deberan seguir las intrucciones de cada numeral para su desarrollo."
   ]
  },
  {
   "cell_type": "markdown",
   "metadata": {},
   "source": [
    "## Datos predicción precio de automóviles\n",
    "\n",
    "En este taller se usará el conjunto de datos de Car Listings de Kaggle donde cada observación representa el precio de un automóvil teniendo en cuenta distintas variables como año, marca, modelo, entre otras. El objetivo es predecir el precio del automóvil. Para más detalles puede visitar el siguiente enlace: [datos](https://www.kaggle.com/jpayne/852k-used-car-listings)."
   ]
  },
  {
   "cell_type": "code",
   "execution_count": 1,
   "metadata": {},
   "outputs": [],
   "source": [
    "import warnings\n",
    "warnings.filterwarnings('ignore')"
   ]
  },
  {
   "cell_type": "code",
   "execution_count": 2,
   "metadata": {},
   "outputs": [
    {
     "data": {
      "text/html": [
       "<div>\n",
       "<style scoped>\n",
       "    .dataframe tbody tr th:only-of-type {\n",
       "        vertical-align: middle;\n",
       "    }\n",
       "\n",
       "    .dataframe tbody tr th {\n",
       "        vertical-align: top;\n",
       "    }\n",
       "\n",
       "    .dataframe thead th {\n",
       "        text-align: right;\n",
       "    }\n",
       "</style>\n",
       "<table border=\"1\" class=\"dataframe\">\n",
       "  <thead>\n",
       "    <tr style=\"text-align: right;\">\n",
       "      <th></th>\n",
       "      <th>Price</th>\n",
       "      <th>Year</th>\n",
       "      <th>Mileage</th>\n",
       "      <th>M_Camry</th>\n",
       "      <th>M_Camry4dr</th>\n",
       "      <th>M_CamryBase</th>\n",
       "      <th>M_CamryL</th>\n",
       "      <th>M_CamryLE</th>\n",
       "      <th>M_CamrySE</th>\n",
       "      <th>M_CamryXLE</th>\n",
       "    </tr>\n",
       "  </thead>\n",
       "  <tbody>\n",
       "    <tr>\n",
       "      <th>7</th>\n",
       "      <td>21995</td>\n",
       "      <td>2014</td>\n",
       "      <td>6480</td>\n",
       "      <td>0</td>\n",
       "      <td>0</td>\n",
       "      <td>0</td>\n",
       "      <td>1</td>\n",
       "      <td>0</td>\n",
       "      <td>0</td>\n",
       "      <td>0</td>\n",
       "    </tr>\n",
       "    <tr>\n",
       "      <th>11</th>\n",
       "      <td>13995</td>\n",
       "      <td>2014</td>\n",
       "      <td>39972</td>\n",
       "      <td>0</td>\n",
       "      <td>0</td>\n",
       "      <td>0</td>\n",
       "      <td>0</td>\n",
       "      <td>1</td>\n",
       "      <td>0</td>\n",
       "      <td>0</td>\n",
       "    </tr>\n",
       "    <tr>\n",
       "      <th>167</th>\n",
       "      <td>17941</td>\n",
       "      <td>2016</td>\n",
       "      <td>18989</td>\n",
       "      <td>0</td>\n",
       "      <td>0</td>\n",
       "      <td>0</td>\n",
       "      <td>0</td>\n",
       "      <td>0</td>\n",
       "      <td>1</td>\n",
       "      <td>0</td>\n",
       "    </tr>\n",
       "    <tr>\n",
       "      <th>225</th>\n",
       "      <td>12493</td>\n",
       "      <td>2014</td>\n",
       "      <td>51330</td>\n",
       "      <td>0</td>\n",
       "      <td>0</td>\n",
       "      <td>0</td>\n",
       "      <td>1</td>\n",
       "      <td>0</td>\n",
       "      <td>0</td>\n",
       "      <td>0</td>\n",
       "    </tr>\n",
       "    <tr>\n",
       "      <th>270</th>\n",
       "      <td>7994</td>\n",
       "      <td>2007</td>\n",
       "      <td>116065</td>\n",
       "      <td>0</td>\n",
       "      <td>1</td>\n",
       "      <td>0</td>\n",
       "      <td>0</td>\n",
       "      <td>0</td>\n",
       "      <td>0</td>\n",
       "      <td>0</td>\n",
       "    </tr>\n",
       "  </tbody>\n",
       "</table>\n",
       "</div>"
      ],
      "text/plain": [
       "     Price  Year  Mileage  M_Camry  M_Camry4dr  M_CamryBase  M_CamryL  \\\n",
       "7    21995  2014     6480        0           0            0         1   \n",
       "11   13995  2014    39972        0           0            0         0   \n",
       "167  17941  2016    18989        0           0            0         0   \n",
       "225  12493  2014    51330        0           0            0         1   \n",
       "270   7994  2007   116065        0           1            0         0   \n",
       "\n",
       "     M_CamryLE  M_CamrySE  M_CamryXLE  \n",
       "7            0          0           0  \n",
       "11           1          0           0  \n",
       "167          0          1           0  \n",
       "225          0          0           0  \n",
       "270          0          0           0  "
      ]
     },
     "execution_count": 2,
     "metadata": {},
     "output_type": "execute_result"
    }
   ],
   "source": [
    "# Importación de librerías\n",
    "%matplotlib inline\n",
    "import pandas as pd\n",
    "import numpy as np\n",
    "\n",
    "# Lectura de la información de archivo .csv\n",
    "data = pd.read_csv('https://raw.githubusercontent.com/albahnsen/MIAD_ML_and_NLP/main/datasets/dataTrain_carListings.zip')\n",
    "\n",
    "# Preprocesamiento de datos para el taller\n",
    "data = data.loc[data['Model'].str.contains('Camry')].drop(['Make', 'State'], axis=1)\n",
    "data = data.join(pd.get_dummies(data['Model'], prefix='M'))\n",
    "data = data.drop(['Model'], axis=1)\n",
    "\n",
    "# Visualización dataset\n",
    "data.head()"
   ]
  },
  {
   "cell_type": "code",
   "execution_count": 3,
   "metadata": {},
   "outputs": [],
   "source": [
    "# Separación de variables predictoras (X) y variable de interés (y)\n",
    "y = data['Price']\n",
    "X = data.drop(['Price'], axis=1)"
   ]
  },
  {
   "cell_type": "code",
   "execution_count": 4,
   "metadata": {},
   "outputs": [],
   "source": [
    "# Separación de datos en set de entrenamiento y test\n",
    "from sklearn.model_selection import train_test_split\n",
    "X_train, X_test, y_train, y_test = train_test_split(X, y, test_size=0.33, random_state=42)"
   ]
  },
  {
   "cell_type": "markdown",
   "metadata": {},
   "source": [
    "### Punto 1 - Árbol de decisión manual\n",
    "\n",
    "En la celda 1 creen un árbol de decisión **manualmente**  que considere los set de entrenamiento y test definidos anteriormente y presenten el RMSE y MAE del modelo en el set de test."
   ]
  },
  {
   "cell_type": "raw",
   "metadata": {},
   "source": [
    "# Definición de la función que calcula el gini index\n",
    "def gini(y_train):\n",
    "    if y.shape[0] == 0:\n",
    "        return 0\n",
    "    else:\n",
    "        return 1 - (y_train.mean()**2 + (1 - y_train.mean())**2)\n",
    "# Definición de la función gini_imputiry para calular la ganancia de una variable predictora j dado el punto de corte k\n",
    "def gini_impurity(X_col, y, split):\n",
    "    \n",
    "    filter_l = X_col < split\n",
    "    y_l = y.loc[filter_l]\n",
    "    y_r = y.loc[~filter_l]\n",
    "    \n",
    "    n_l = y_l.shape[0]\n",
    "    n_r = y_r.shape[0]\n",
    "    \n",
    "    gini_y = gini(y)\n",
    "    gini_l = gini(y_l)\n",
    "    gini_r = gini(y_r)\n",
    "    \n",
    "    gini_impurity_ = gini_y - (n_l / (n_l + n_r) * gini_l + n_r / (n_l + n_r) * gini_r)\n",
    "    \n",
    "    return gini_impurity_\n",
    "\n",
    "# Definición de la función best_split para calcular cuál es la mejor variable y punto de cortepara hacer la bifurcación del árbol\n",
    "def best_split(X_train, y_train, num_pct=10):\n",
    "    \n",
    "    features = range(X_train.shape[1])\n",
    "    \n",
    "    best_split = [0, 0, 0]  # j, split, gain\n",
    "    \n",
    "    # Para todas las varibles \n",
    "    for j in features:\n",
    "        \n",
    "        splits = np.percentile(X_train.iloc[:, j], np.arange(0, 100, 100.0 / (num_pct+1)).tolist())\n",
    "        splits = np.unique(splits)[1:]\n",
    "        \n",
    "        # Para cada partición\n",
    "        for split in splits:\n",
    "            gain = gini_impurity(X_train.iloc[:, j], y_train, split)\n",
    "                        \n",
    "            if gain > best_split[2]:\n",
    "                best_split = [j, split, gain]\n",
    "    \n",
    "    return best_split\n",
    "\n",
    "X_train = X_train.reset_index(drop=True)\n",
    "X_test = X_test.reset_index(drop=True)\n",
    "y_train = y_train.reset_index(drop=True)\n",
    "y_test = y_test.reset_index(drop=True)\n",
    "\n",
    "def predict(X, tree):\n",
    "    if 'y_pred' in tree:\n",
    "        return tree['y_pred']\n",
    "    j, split = tree['split']\n",
    "    if X.iloc[j] < split:\n",
    "        return predict(X, tree['sl'])\n",
    "    else:\n",
    "        return predict(X, tree['sr'])\n",
    "\n",
    "\n",
    "# Definición de la función tree_grow para hacer un crecimiento recursivo del árbol\n",
    "def tree_grow(X_train, y_train, X_test, y_test, level=0, min_gain=0.001, max_depth=None, num_pct=10):\n",
    "    \n",
    "    # Si solo es una observación\n",
    "    if X_train.shape[0] == 1:\n",
    "        tree = dict(y_pred=y_train.iloc[:1].values[0], y_prob=0.5, level=level, split=-1, n_samples=1, gain=0)\n",
    "        return tree\n",
    "    \n",
    "    # Calcular la mejor división\n",
    "    j, split, gain = best_split(X_train, y_train, num_pct)\n",
    "    \n",
    "    # Guardar el árbol y estimar la predicción\n",
    "    y_pred = int(y_train.mean() >= 0.5) \n",
    "    y_prob = (y_train.sum() + 1.0) / (y_train.shape[0] + 2.0)  # Corrección Laplace \n",
    "    \n",
    "    tree = dict(y_pred=y_pred, y_prob=y_prob, level=level, split=-1, n_samples=X_train.shape[0], gain=gain)\n",
    "    \n",
    "    # Revisar el criterio de parada \n",
    "    if gain < min_gain:\n",
    "        return tree\n",
    "    if max_depth is not None:\n",
    "        if level >= max_depth:\n",
    "            return tree\n",
    "    \n",
    "    # Continuar creando la partición\n",
    "    filter_l = X_train.iloc[:, j] < split\n",
    "    X_train_l, y_train_l = X_train.loc[filter_l].reset_index(drop=True), y_train.loc[filter_l].reset_index(drop=True)\n",
    "    X_train_r, y_train_r = X_train.loc[~filter_l].reset_index(drop=True), y_train.loc[~filter_l].reset_index(drop=True)\n",
    "    tree['split'] = [j, split]\n",
    "    \n",
    "    # Selección de filas correspondientes al conjunto de prueba\n",
    "    filter_test_l = X_test.iloc[:, j] < split\n",
    "    X_test_l, y_test_l = X_test.loc[filter_test_l].reset_index(drop=True), y_test.loc[filter_test_l].reset_index(drop=True)\n",
    "    X_test_r, y_test_r = X_test.loc[~filter_test_l].reset_index(drop=True), y_test.loc[~filter_test_l].reset_index(drop=True)\n",
    "\n",
    "    # Siguiente iteración para cada partición\n",
    "    tree['sl'] = tree_grow(X_train_l, y_train_l, X_test_l, y_test_l, level + 1, min_gain=min_gain, max_depth=max_depth, num_pct=num_pct)\n",
    "    tree['sr'] = tree_grow(X_train_r, y_train_r, X_test_r, y_test_r, level + 1, min_gain=min_gain, max_depth=max_depth, num_pct=num_pct)\n",
    "    \n",
    "    # Calcular RMSE y MAE del conjunto de prueba\n",
    "    y_pred_test = predict(X_test, tree)\n",
    "    RMSE = np.sqrt(np.mean((y_test - y_pred_test)**2))\n",
    "    MAE = np.mean(np.abs(y_test - y_pred_test))\n",
    "    tree['RMSE'] = RMSE\n",
    "    tree['MAE'] = MAE\n",
    "    \n",
    "    return tree\n",
    "\n",
    "tree_grow(X_train, y_train, X_test, y_test, level=0, min_gain=0.001, max_depth=None, num_pct=10)\n"
   ]
  },
  {
   "cell_type": "markdown",
   "metadata": {},
   "source": [
    "### Punto 2 - Bagging manual\n",
    "\n",
    "En la celda 2 creen un modelo bagging **manualmente** con 10 árboles de regresión y comenten sobre el desempeño del modelo."
   ]
  },
  {
   "cell_type": "code",
   "execution_count": null,
   "metadata": {},
   "outputs": [],
   "source": [
    "\n"
   ]
  },
  {
   "cell_type": "markdown",
   "metadata": {},
   "source": [
    "### Punto 3 - Bagging con librería\n",
    "\n",
    "En la celda 3, con la librería sklearn, entrenen un modelo bagging con 10 árboles de regresión y el parámetro `max_features` igual a `log(n_features)` y comenten sobre el desempeño del modelo."
   ]
  },
  {
   "cell_type": "code",
   "execution_count": 15,
   "metadata": {},
   "outputs": [
    {
     "name": "stdout",
     "output_type": "stream",
     "text": [
      "Error cuadrático medio (RMSE): 1824.7000069648657\n",
      "Error absoluto medio (MAE): 1361.8777493561897\n",
      "Error porcentual absoluto medio (MAPE): 0.09881386853149371\n"
     ]
    }
   ],
   "source": [
    "from sklearn.ensemble import BaggingRegressor\n",
    "from sklearn.tree import DecisionTreeRegressor\n",
    "from sklearn.metrics import mean_squared_error, mean_absolute_error, mean_absolute_percentage_error\n",
    "\n",
    "\n",
    "bagreg = BaggingRegressor(DecisionTreeRegressor(max_features = 'log2'), n_estimators=10, \n",
    "                          bootstrap=True, oob_score=True, random_state=1)\n",
    "bagreg.fit(X_train, y_train)\n",
    "y_pred = bagreg.predict(X_test)\n",
    "mse_BG_sk = mean_squared_error(y_test, y_pred)\n",
    "MAE_BG_sk = mean_absolute_error(y_test, y_pred)\n",
    "RMSE_BG_sk = np.sqrt(mse_BG_sk)\n",
    "MAPE_BG_sk = mean_absolute_percentage_error(y_test, y_pred)\n",
    "\n",
    "print(\"Error cuadrático medio (RMSE):\", RMSE_BG_sk)\n",
    "print(\"Error absoluto medio (MAE):\", MAE_BG_sk)\n",
    "print(\"Error porcentual absoluto medio (MAPE):\", MAPE_BG_sk)"
   ]
  },
  {
   "cell_type": "markdown",
   "metadata": {},
   "source": [
    "### Punto 4 - Random forest con librería\n",
    "\n",
    "En la celda 4, usando la librería sklearn entrenen un modelo de Randon Forest para regresión  y comenten sobre el desempeño del modelo."
   ]
  },
  {
   "cell_type": "code",
   "execution_count": 29,
   "metadata": {},
   "outputs": [
    {
     "name": "stdout",
     "output_type": "stream",
     "text": [
      "Mejores hiperparámetros: {'max_depth': 10, 'n_estimators': 100}\n",
      "RMSE: 1583.6492233928598\n",
      "MAE: 1164.5609588027446\n"
     ]
    }
   ],
   "source": [
    "from sklearn.ensemble import RandomForestRegressor\n",
    "from sklearn.model_selection import GridSearchCV, train_test_split\n",
    "from sklearn.metrics import mean_squared_error, mean_absolute_error\n",
    "\n",
    "# Variación de hiper parametros\n",
    "param_grid = {\n",
    "    'n_estimators': [50, 100],\n",
    "    'max_depth': [10, 20]\n",
    "}\n",
    "\n",
    "# Creamos el modelo Random Forest\n",
    "rf = RandomForestRegressor(random_state=42)\n",
    "\n",
    "# Buscamos el mejor conjunto de hiperparámetros mediante Grid Search\n",
    "grid_search = GridSearchCV(estimator=rf, param_grid=param_grid, cv=5, scoring='neg_mean_squared_error', n_jobs=-1)\n",
    "grid_search.fit(X_train, y_train)\n",
    "\n",
    "# Imprimimos los mejores hiperparámetros encontrados\n",
    "print(\"Mejores hiperparámetros:\", grid_search.best_params_)\n",
    "\n",
    "# Evaluamos el modelo en el conjunto de prueba\n",
    "y_pred = grid_search.predict(X_test)\n",
    "rmse = mean_squared_error(y_test, y_pred, squared=False)\n",
    "mae = mean_absolute_error(y_test, y_pred)\n",
    "\n",
    "# Imprimimos el RMSE y el MAE\n",
    "print(\"RMSE:\", rmse)\n",
    "print(\"MAE:\", mae)\n"
   ]
  },
  {
   "cell_type": "markdown",
   "metadata": {},
   "source": [
    "### Punto 5 - Calibración de parámetros Random forest\n",
    "\n",
    "En la celda 5, calibren los parámetros max_depth, max_features y n_estimators del modelo de Randon Forest para regresión, comenten sobre el desempeño del modelo y describan cómo cada parámetro afecta el desempeño del modelo."
   ]
  },
  {
   "cell_type": "code",
   "execution_count": 31,
   "metadata": {},
   "outputs": [
    {
     "name": "stdout",
     "output_type": "stream",
     "text": [
      "El mejor valor de max_depth es: 8\n"
     ]
    },
    {
     "data": {
      "image/png": "[encoded data removed]",
      "text/plain": [
       "<Figure size 432x288 with 1 Axes>"
      ]
     },
     "metadata": {
      "needs_background": "light"
     },
     "output_type": "display_data"
    }
   ],
   "source": [
    "from sklearn.model_selection import cross_val_score\n",
    "import matplotlib.pyplot as plt\n",
    "\n",
    "# Creación de lista de valores para iterar sobre diferentes valores de max_depth\n",
    "depth_range = range(1, 21)\n",
    "\n",
    "# Definición de lista para almacenar el MSE promedio por valor de max_depth\n",
    "mse_scores = []\n",
    "\n",
    "# Uso de un 10-fold cross-validation para cada valor de max_depth\n",
    "for depth in depth_range:\n",
    "    rf = RandomForestRegressor(max_depth=depth, random_state=1, n_jobs=-1)\n",
    "    mse_scores.append(-1 * cross_val_score(rf, X_train, y_train, cv=10, scoring='neg_mean_squared_error').mean())\n",
    "\n",
    "# Gráfica del desempeño del modelo vs la cantidad de max_depth\n",
    "plt.plot(depth_range, mse_scores)\n",
    "plt.xlabel('max_depth')\n",
    "plt.ylabel('MSE')\n",
    "\n",
    "optimal_max_depth = depth_range[mse_scores.index(min(mse_scores))]\n",
    "print(\"El mejor valor de max_depth es:\", optimal_max_depth)\n"
   ]
  },
  {
   "cell_type": "markdown",
   "metadata": {},
   "source": [
    "**max_depth**: El parámetro controla la profundidad máxima del árbol de decisión en cada estimador de Random Forest. Un valor más alto de \"max_depth\" permite que el modelo se ajuste más a los datos de entrenamiento, pero también puede aumentar la posibilidad de sobreajuste. Por lo tanto, un valor óptimo de \"max_depth\" en este caso  es de 8, en donde tenemos el valor minimo de la curva."
   ]
  },
  {
   "cell_type": "code",
   "execution_count": 32,
   "metadata": {},
   "outputs": [
    {
     "name": "stdout",
     "output_type": "stream",
     "text": [
      "El mejor valor de max_features es: 4\n"
     ]
    },
    {
     "data": {
      "image/png": "[encoded data removed]",
      "text/plain": [
       "<Figure size 432x288 with 1 Axes>"
      ]
     },
     "metadata": {
      "needs_background": "light"
     },
     "output_type": "display_data"
    }
   ],
   "source": [
    "# Creación de lista de valores para iterar sobre diferentes valores de max_features\n",
    "feature_range = range(1, X_train.shape[1])\n",
    "\n",
    "# Definición de lista para almacenar el MSE promedio para cada valor de max_features\n",
    "mse_scores = []\n",
    "\n",
    "# Uso de un 10-fold cross-validation para cada valor de max_features\n",
    "for feature in feature_range:\n",
    "    rf = RandomForestRegressor(max_features=feature, max_depth=optimal_max_depth ,random_state=1, n_jobs=-1)\n",
    "    mse_scores.append(-1 * cross_val_score(rf, X_train, y_train, cv=10, scoring='neg_mean_squared_error').mean())\n",
    "\n",
    "# Gráfica del desempeño del modelo vs la cantidad de max_features\n",
    "plt.plot(feature_range, mse_scores)\n",
    "plt.xlabel('max_features')\n",
    "plt.ylabel('MSE')\n",
    "\n",
    "optimal_max_features = feature_range[mse_scores.index(min(mse_scores))]\n",
    "print(\"El mejor valor de max_features es:\", optimal_max_features)"
   ]
  },
  {
   "cell_type": "markdown",
   "metadata": {},
   "source": [
    "**max_features**: El parámetro controla el número máximo de características que se consideran para dividir un nodo en el árbol de decisión. Un valor más bajo de  reduce la complejidad del modelo y puede ayudar a prevenir el sobreajuste, mientras que un valor más alto puede mejorar el rendimiento del modelo en conjuntos de datos con muchas características relevantes, en este caso se selecciona el optimo"
   ]
  },
  {
   "cell_type": "code",
   "execution_count": 33,
   "metadata": {},
   "outputs": [
    {
     "data": {
      "image/png": "[encoded data removed]",
      "text/plain": [
       "<Figure size 432x288 with 1 Axes>"
      ]
     },
     "metadata": {
      "needs_background": "light"
     },
     "output_type": "display_data"
    },
    {
     "name": "stdout",
     "output_type": "stream",
     "text": [
      "El mejor valor de n_estimators es: 80\n"
     ]
    }
   ],
   "source": [
    "# Creación de lista de valores para iterar sobre diferentes valores de n_estimators\n",
    "estimator_range = range(10, 101, 10)\n",
    "\n",
    "# Definición de lista para almacenar el MSE promedio para cada valor de n_estimators\n",
    "mse_scores = []\n",
    "\n",
    "# Iterar sobre diferentes valores de n_estimators\n",
    "for estimator in estimator_range:\n",
    "    # Crear un modelo de regresión random forest con el número de estimadores dado y otros parámetros fijos\n",
    "    rf = RandomForestRegressor(n_estimators=estimator ,max_features=optimal_max_features, max_depth=optimal_max_depth ,random_state=1, n_jobs=-1)\n",
    "    # Calcular el MSE promedio utilizando 10-fold cross-validation\n",
    "    mse_scores.append(-1 * cross_val_score(rf, X_train, y_train, cv=10, scoring='neg_mean_squared_error').mean())\n",
    "\n",
    "# Gráfica del desempeño del modelo vs la cantidad de n_estimators\n",
    "plt.plot(estimator_range, mse_scores)\n",
    "plt.xlabel('n_estimators')\n",
    "plt.ylabel('MSE')\n",
    "plt.show()\n",
    "\n",
    "# Obtener el valor óptimo de n_estimators con el menor MSE promedio\n",
    "optimal_n_estimators = estimator_range[mse_scores.index(min(mse_scores))]\n",
    "print(\"El mejor valor de n_estimators es:\", optimal_n_estimators)"
   ]
  },
  {
   "cell_type": "markdown",
   "metadata": {},
   "source": [
    "**n_estimators**: controla el número de árboles que se construyen en el modelo de Random Forest. Un valor más alto de estimadores puede mejorar el rendimiento del modelo, pero también aumenta el costo computacional, en este caso vemos que se alcanza el menor cuando la cantidad de estimadores es 80"
   ]
  },
  {
   "cell_type": "code",
   "execution_count": 34,
   "metadata": {},
   "outputs": [
    {
     "name": "stdout",
     "output_type": "stream",
     "text": [
      "RMSE: 1550.0807439441892\n",
      "MAE: 1138.942239585836\n"
     ]
    }
   ],
   "source": [
    "rf = RandomForestRegressor(n_estimators=optimal_n_estimators ,max_features=optimal_max_features, max_depth=optimal_max_depth ,random_state=1, n_jobs=-1)\n",
    "rf.fit(X_train, y_train)\n",
    "y_pred = rf.predict(X_test)\n",
    "\n",
    "rmse = mean_squared_error(y_test, y_pred, squared=False)\n",
    "mae = mean_absolute_error(y_test, y_pred)\n",
    "\n",
    "# Imprimimos el RMSE y el MAE\n",
    "print(\"RMSE:\", rmse)\n",
    "print(\"MAE:\", mae)"
   ]
  },
  {
   "cell_type": "markdown",
   "metadata": {},
   "source": [
    "### Punto 6 - XGBoost con librería\n",
    "\n",
    "En la celda 6 implementen un modelo XGBoost de regresión con la librería sklearn y comenten sobre el desempeño del modelo."
   ]
  },
  {
   "cell_type": "code",
   "execution_count": 24,
   "metadata": {},
   "outputs": [
    {
     "name": "stdout",
     "output_type": "stream",
     "text": [
      "Error cuadrático medio (RMSE): 1621.4197004256812\n",
      "Error absoluto medio (MAE): 1186.634392366123\n",
      "Error porcentual absoluto medio (MAPE): 0.0864887239331454\n"
     ]
    }
   ],
   "source": [
    "from xgboost import XGBRegressor\n",
    "XG_reg = XGBRegressor()\n",
    "\n",
    "XG_reg.fit(X_train, y_train)\n",
    "\n",
    "y_pred= XG_reg.predict(X_test)\n",
    "\n",
    "mse_XG = mean_squared_error(y_test, y_pred)\n",
    "MAE_XG = mean_absolute_error(y_test, y_pred)\n",
    "RMSE_XG = np.sqrt(mse_XG)\n",
    "MAPE_XG = mean_absolute_percentage_error(y_test, y_pred)\n",
    "\n",
    "print(\"Error cuadrático medio (RMSE):\", RMSE_XG)\n",
    "print(\"Error absoluto medio (MAE):\", MAE_XG)\n",
    "print(\"Error porcentual absoluto medio (MAPE):\", MAPE_XG)\n"
   ]
  },
  {
   "cell_type": "markdown",
   "metadata": {},
   "source": [
    "### Punto 7 - Calibración de parámetros XGBoost\n",
    "\n",
    "En la celda 7 calibren los parámetros learning rate, gamma y colsample_bytree del modelo XGBoost para regresión, comenten sobre el desempeño del modelo y describan cómo cada parámetro afecta el desempeño del modelo."
   ]
  },
  {
   "cell_type": "code",
   "execution_count": 25,
   "metadata": {},
   "outputs": [
    {
     "name": "stdout",
     "output_type": "stream",
     "text": [
      "Mejores parametros: {'colsample_bytree': 0.7, 'gamma': 0.2, 'learning_rate': 0.1}\n",
      "Error cuadrático medio (RMSE): 1547.7444714534906\n",
      "Error absoluto medio (MAE): 1133.055212712453\n",
      "Error porcentual absoluto medio (MAPE): 0.08230490258758869\n"
     ]
    }
   ],
   "source": [
    "from sklearn.model_selection import GridSearchCV\n",
    "XG_reg = XGBRegressor()\n",
    "parametros = {\n",
    "    'learning_rate': [0.01, 0.1, 0.2],  # Valores para learning_rate\n",
    "    'gamma': [0, 0.1, 0.2],  # Valores para gamma\n",
    "    'colsample_bytree': [0.5, 0.7, 1.0]  # Valores para colsample_bytree\n",
    "}\n",
    "\n",
    "grid_search = GridSearchCV(XG_reg, parametros, scoring='neg_mean_absolute_percentage_error', cv=5)\n",
    "grid_search.fit(X_train, y_train)\n",
    "\n",
    "best_params = grid_search.best_params_\n",
    "\n",
    "best_model_XG_reg = grid_search.best_estimator_\n",
    "\n",
    "y_pred= best_model_XG_reg.predict(X_test)\n",
    "\n",
    "bmse_XG = mean_squared_error(y_test, y_pred)\n",
    "bMAE_XG = mean_absolute_error(y_test, y_pred)\n",
    "bRMSE_XG = np.sqrt(bmse_XG)\n",
    "bMAPE_XG = mean_absolute_percentage_error(y_test, y_pred)\n",
    "print(\"Mejores parametros:\", best_params)\n",
    "print(\"Error cuadrático medio (RMSE):\", bRMSE_XG)\n",
    "print(\"Error absoluto medio (MAE):\", bMAE_XG)\n",
    "print(\"Error porcentual absoluto medio (MAPE):\", bMAPE_XG)"
   ]
  },
  {
   "cell_type": "markdown",
   "metadata": {},
   "source": [
    "Los parámetros más significativos en el análisis de la calibración del sistema XG Boost en este caso son colsample_bytree y gamma. El primero nos muestra que el sistema utilizo el 70% de las características para realizar la división de cada nodo de los diferentes árboles, con ello se reduce la correlación entre los arboles y ayuda a mejorar la generalización del modelo. De igual manera, el parámetro gamma 0.2 es un valor moderado para la creación de nuevos nodos en los árboles, lo que permite obtener arboles más pequeños y menos complejos, asi evitando el overfitting del modelo."
   ]
  },
  {
   "cell_type": "markdown",
   "metadata": {},
   "source": [
    "### Punto 8 - Comparación y análisis de resultados\n",
    "En la celda 8 comparen los resultados obtenidos de los diferentes modelos (random forest y XGBoost) y comenten las ventajas del mejor modelo y las desventajas del modelo con el menor desempeño."
   ]
  },
  {
   "cell_type": "code",
   "execution_count": 28,
   "metadata": {},
   "outputs": [
    {
     "data": {
      "image/png": "[encoded data removed]",
      "text/plain": [
       "<Figure size 432x288 with 1 Axes>"
      ]
     },
     "metadata": {
      "needs_background": "light"
     },
     "output_type": "display_data"
    }
   ],
   "source": [
    "import matplotlib.pyplot as plt\n",
    "\n",
    "fig = plt.figure()\n",
    "ax = fig.add_axes([0,0,1,1])\n",
    "ax.set_title(\"Comparación de modelos de regresión - MAE\")\n",
    "ejeX = ['XGBoost', 'Best XGBoost']\n",
    "ejeY = [MAE_XG,bMAE_XG]\n",
    "ax.bar(ejeX,ejeY)\n",
    "def addlabels(x,y,plotP):\n",
    "    for i in range(len(x)):\n",
    "        plotP.text(i,y[i],y[i])\n",
    "addlabels(ejeX,ejeY,plt)\n",
    "plt.show()\n"
   ]
  },
  {
   "cell_type": "code",
   "execution_count": null,
   "metadata": {},
   "outputs": [],
   "source": []
  }
 ],
 "metadata": {
  "kernelspec": {
   "display_name": "Python 3",
   "language": "python",
   "name": "python3"
  },
  "language_info": {
   "codemirror_mode": {
    "name": "ipython",
    "version": 3
   },
   "file_extension": ".py",
   "mimetype": "text/x-python",
   "name": "python",
   "nbconvert_exporter": "python",
   "pygments_lexer": "ipython3",
   "version": "3.8.5"
  }
 },
 "nbformat": 4,
 "nbformat_minor": 4
}
