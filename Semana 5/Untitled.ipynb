{
 "cells": [
  {
   "cell_type": "code",
   "execution_count": 5,
   "metadata": {},
   "outputs": [
    {
     "name": "stdout",
     "output_type": "stream",
     "text": [
      "{'result': \"{'Comedy': 0.6916713146425596, 'Drama': 0.57551478153519, 'Sport': 0.4718193726297317, 'Family': 0.13624211057668473}\"}\n"
     ]
    }
   ],
   "source": [
    "import requests\n",
    "\n",
    "# URL de la API\n",
    "url = 'http://localhost:5000/predict/'\n",
    "\n",
    "# Datos de la película para predecir los géneros\n",
    "payload = {\n",
    "    'year': 2022,\n",
    "    'title': 'How Green Was My Valley',\n",
    "    'plot': 'N  - year - old waterboy bobby boucher is constantly tormented by the team he works for until he is fired by the coach .  he then finds a new coach to work for .  here he finds a new talent',\n",
    "    'rating': 7.5\n",
    "}\n",
    "\n",
    "# Realizar la solicitud POST a la API\n",
    "response = requests.post(url, json=payload)\n",
    "\n",
    "# Obtener la respuesta JSON\n",
    "result = response.json()\n",
    "\n",
    "# Imprimir el resultado de la predicción de géneros\n",
    "print(result)"
   ]
  },
  {
   "cell_type": "code",
   "execution_count": null,
   "metadata": {},
   "outputs": [],
   "source": []
  }
 ],
 "metadata": {
  "kernelspec": {
   "display_name": "Python 3",
   "language": "python",
   "name": "python3"
  },
  "language_info": {
   "codemirror_mode": {
    "name": "ipython",
    "version": 3
   },
   "file_extension": ".py",
   "mimetype": "text/x-python",
   "name": "python",
   "nbconvert_exporter": "python",
   "pygments_lexer": "ipython3",
   "version": "3.8.5"
  }
 },
 "nbformat": 4,
 "nbformat_minor": 4
}
