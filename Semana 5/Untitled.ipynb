{
 "cells": [
  {
   "cell_type": "code",
   "execution_count": 2,
   "metadata": {},
   "outputs": [
    {
     "name": "stdout",
     "output_type": "stream",
     "text": [
      "{'result': \"{'Drama': 0.6919887321644717, 'Comedy': 0.37320831780653546, 'Romance': 0.36220448102090314, 'Adventure': 0.10346166945773809}\"}\n"
     ]
    }
   ],
   "source": [
    "import requests\n",
    "\n",
    "# URL de la API\n",
    "url = 'http://localhost:5000/predict/'\n",
    "\n",
    "# Datos de la película para predecir los géneros\n",
    "payload = {\n",
    "    'year': 2022,\n",
    "    'title': 'How Green Was My Valley',\n",
    "    'plot': 'adult huw morgan is about to move away from the south wales coal mining village he has lived in his entire life .  he remembers back to his growing up period ,  when the dust from the coal mines ,  which were then new to the area ,  had not yet darkened the lush green valley .  his father and his five adult brothers worked in the mines ,  which ended up being a source of conflict ,  not only between management and laborers ,  but also within the morgan family ,  its individual members who had different views of their role in the mine .  despite his tender age ,  huw immediately fell in love with bronwyn ,  who came to the village to marry his eldest brother ivor .  also on the love front ,  his only sister angharad fell in love with the new preacher ,  mr .  gruffydd ,  who had a slightly different view of his relationship with her ,  and which would end up destroying his life in the valley .  huw would be the only of his siblings to obtain an education ,  but he learned as much about life as he did about book learning in his schooling .  his first work experience post school ,  which surprised his family ,  would result in the loss of his youthful innocence\"',\n",
    "    'rating': 7.5\n",
    "}\n",
    "\n",
    "# Realizar la solicitud POST a la API\n",
    "response = requests.post(url, json=payload)\n",
    "\n",
    "# Obtener la respuesta JSON\n",
    "result = response.json()\n",
    "\n",
    "# Imprimir el resultado de la predicción de géneros\n",
    "print(result)"
   ]
  },
  {
   "cell_type": "code",
   "execution_count": null,
   "metadata": {},
   "outputs": [],
   "source": []
  }
 ],
 "metadata": {
  "kernelspec": {
   "display_name": "Python 3",
   "language": "python",
   "name": "python3"
  },
  "language_info": {
   "codemirror_mode": {
    "name": "ipython",
    "version": 3
   },
   "file_extension": ".py",
   "mimetype": "text/x-python",
   "name": "python",
   "nbconvert_exporter": "python",
   "pygments_lexer": "ipython3",
   "version": "3.8.5"
  }
 },
 "nbformat": 4,
 "nbformat_minor": 4
}
